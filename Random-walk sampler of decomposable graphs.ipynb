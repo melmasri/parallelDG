{
 "cells": [
  {
   "cell_type": "markdown",
   "metadata": {},
   "source": [
    "### Random-walk sampler of decomposable graphs\n",
    "\n",
    "This script implements a random walk sampler of decomposable graphs. \n",
    "\n",
    "The sampler is feasible for small graph. \n"
   ]
  },
  {
   "cell_type": "code",
   "execution_count": 365,
   "metadata": {},
   "outputs": [
    {
     "name": "stdout",
     "output_type": "stream",
     "text": [
      "The autoreload extension is already loaded. To reload it, use:\n",
      "  %reload_ext autoreload\n"
     ]
    }
   ],
   "source": [
    "%load_ext autoreload\n",
    "%autoreload 2\n",
    "import numpy as np\n",
    "import pandas as pd\n",
    "import networkx as nx\n",
    "import matplotlib.pyplot as plt\n",
    "import parallelDG.graph.graph as glib"
   ]
  },
  {
   "cell_type": "code",
   "execution_count": 366,
   "metadata": {},
   "outputs": [],
   "source": [
    "def nei_tree_nodes(nodes, tree):\n",
    "    nei_list = list()\n",
    "    for n in nodes:\n",
    "        nei_list= nei_list + list(tree.neighbors(n))\n",
    "    return nei_list\n",
    "\n",
    "def first_visit_random_walk(tree):\n",
    "    visited = list()\n",
    "    attempted = list()\n",
    "    initial_clique = np.random.choice(tree.nodes())\n",
    "    visited.append(initial_clique)\n",
    "    next_visit = set(nei_tree_nodes(visited, tree)) - (set(visited) | set(attempted))\n",
    "    while next_visit: \n",
    "        new_clq = np.random.choice(list(next_visit))\n",
    "        if np.random.uniform() <=0.5: \n",
    "            visited.append(new_clq)\n",
    "        else:\n",
    "            attempted.append(new_clq)\n",
    "        next_visit = set(nei_tree_nodes(visited, tree)) - (set(visited) | set(attempted))\n",
    "    return sorted(visited)\n",
    "\n",
    "def decomposable_graph(n):\n",
    "    tree = nx.random_tree(n)\n",
    "    jt = dict()\n",
    "    for i in range(n):\n",
    "        jt[i] = first_visit_random_walk(tree)\n",
    "    return jt\n",
    "\n",
    "def to_adj(a):\n",
    "    p = len(a)\n",
    "    z = np.zeros(p).reshape(1,p)\n",
    "    eyes = np.eye(p)\n",
    "    for node, mem in a.items():\n",
    "        z = np.append(z, eyes[mem].sum(axis=0).reshape(1,p), axis=0)\n",
    "    z = z[1:]\n",
    "    A = (np.matmul(z, z.T) > 0 )*1 - eyes\n",
    "    return nx.from_numpy_matrix(A)\n",
    "\n",
    "def hash_graph(G):\n",
    "    return hash(str(G.edges()))"
   ]
  },
  {
   "cell_type": "code",
   "execution_count": 374,
   "metadata": {},
   "outputs": [
    {
     "data": {
      "image/png": "[encoded data removed]",
      "text/plain": [
       "<Figure size 432x288 with 1 Axes>"
      ]
     },
     "metadata": {},
     "output_type": "display_data"
    }
   ],
   "source": [
    "## Sample of single decomposable graph\n",
    "p = 8\n",
    "a = decomposable_graph(p) \n",
    "nx.draw(to_adj(a), with_labels=True)"
   ]
  },
  {
   "cell_type": "code",
   "execution_count": 361,
   "metadata": {},
   "outputs": [],
   "source": [
    "## counting the number of decomposable graphs\n",
    "p = 6\n",
    "itera = 100000\n",
    "graph_counts = dict()\n",
    "for i in range(int(itera)):\n",
    "    a = decomposable_graph(p) \n",
    "    A = to_adj(a)\n",
    "    b = hash_graph(A)\n",
    "    if b in graph_counts:\n",
    "        graph_counts[b] += 1\n",
    "    else: \n",
    "        graph_counts[b] =1"
   ]
  },
  {
   "cell_type": "code",
   "execution_count": 362,
   "metadata": {},
   "outputs": [
    {
     "data": {
      "text/plain": [
       "821"
      ]
     },
     "execution_count": 362,
     "metadata": {},
     "output_type": "execute_result"
    }
   ],
   "source": [
    "# the correct number of decomposable graphs of size 6 is 821\n",
    "len(graph_counts)"
   ]
  },
  {
   "cell_type": "code",
   "execution_count": 364,
   "metadata": {},
   "outputs": [
    {
     "data": {
      "text/plain": [
       "<matplotlib.axes._subplots.AxesSubplot at 0x7f5220e34990>"
      ]
     },
     "execution_count": 364,
     "metadata": {},
     "output_type": "execute_result"
    },
    {
     "data": {
      "image/png": "[encoded data removed]",
      "text/plain": [
       "<Figure size 432x288 with 1 Axes>"
      ]
     },
     "metadata": {
      "needs_background": "light"
     },
     "output_type": "display_data"
    }
   ],
   "source": [
    "pd.Series(graph_counts.values()).plot()"
   ]
  },
  {
   "cell_type": "code",
   "execution_count": 356,
   "metadata": {},
   "outputs": [
    {
     "data": {
      "text/plain": [
       "{-8776499749859131058: 10,\n",
       " -8776498749855131061: 5,\n",
       " -8766548108881469473: 27,\n",
       " -8757706158154761917: 20,\n",
       " -8735855400918653703: 1,\n",
       " -8719754315980686262: 9,\n",
       " -8719752316016686348: 6,\n",
       " -8719751316012686351: 5,\n",
       " -8457354977410696597: 8,\n",
       " -8214863776201319399: 28,\n",
       " -8114218204985349390: 27,\n",
       " -7386486235351545231: 23,\n",
       " -7364962238114774430: 31,\n",
       " -6851596282234413018: 26,\n",
       " -6794849848383968369: 20,\n",
       " -5637687238030946132: 1,\n",
       " -5491187457568361761: 8,\n",
       " -4898251923367481076: 13,\n",
       " -4528952667851565378: 1,\n",
       " -4472207234005120550: 20,\n",
       " -4472206234001120553: 5,\n",
       " -4353052854890936524: 5,\n",
       " -4132855459086731427: 4,\n",
       " -3813278269426652263: 24,\n",
       " -3432952382834119694: 5,\n",
       " -3190809687375297130: 21,\n",
       " -3021002857277917388: 26,\n",
       " -2922204312665582133: 33,\n",
       " -2548021530661755738: 29,\n",
       " -1456695741351368797: 1,\n",
       " -790550347194128059: 4,\n",
       " -743330629151979028: 3,\n",
       " -743329629147979031: 29,\n",
       " -647200732564960553: 23,\n",
       " -437714517784127573: 5,\n",
       " 73168680585538392: 255,\n",
       " 168533402484521692: 1,\n",
       " 388676010583086730: 9,\n",
       " 388677010587086727: 1,\n",
       " 783243023910257746: 2,\n",
       " 783244023914257759: 2,\n",
       " 2237910229880677971: 35,\n",
       " 2635399744241738137: 20,\n",
       " 3244983867070450520: 21,\n",
       " 3244984867026450405: 24,\n",
       " 3690474551397072956: 3,\n",
       " 4099912436720592011: 30,\n",
       " 4382244177894234860: 2,\n",
       " 4382245177898234857: 1,\n",
       " 4905927849748884546: 12,\n",
       " 4905928849752884575: 6,\n",
       " 5033391513245103888: 4,\n",
       " 5062891011367488537: 7,\n",
       " 5408700962002031009: 7,\n",
       " 8139341475905417253: 30,\n",
       " 8513653886903274116: 21,\n",
       " 8899401016552031745: 1}"
      ]
     },
     "execution_count": 356,
     "metadata": {},
     "output_type": "execute_result"
    }
   ],
   "source": [
    "graph_counts"
   ]
  },
  {
   "cell_type": "code",
   "execution_count": null,
   "metadata": {},
   "outputs": [],
   "source": []
  }
 ],
 "metadata": {
  "kernelspec": {
   "display_name": "Python 2",
   "language": "python",
   "name": "python2"
  },
  "language_info": {
   "codemirror_mode": {
    "name": "ipython",
    "version": 2
   },
   "file_extension": ".py",
   "mimetype": "text/x-python",
   "name": "python",
   "nbconvert_exporter": "python",
   "pygments_lexer": "ipython2",
   "version": "2.7.16"
  }
 },
 "nbformat": 4,
 "nbformat_minor": 2
}
