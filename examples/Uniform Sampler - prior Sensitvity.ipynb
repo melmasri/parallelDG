{
 "cells": [
  {
   "cell_type": "markdown",
   "metadata": {},
   "source": [
    "## Prior sensitivity analysis\n",
    "\n",
    "Objective to see how sensitive is the model to random walk prior specification. That is, we define the probability of a connect move as \n",
    "\n",
    "$$ P(connect) = \\frac{e^{-\\rho}}{1+e^{-\\rho}}, \\quad \\rho \\in (-\\infty, \\infty) $$\n",
    "\n",
    "In this setup, the Metropolis--Hasting prior raito is \n",
    "\n",
    "$$ P(connect)/P(disconnect) = e^{-\\rho} $$\n"
   ]
  },
  {
   "cell_type": "code",
   "execution_count": 1,
   "metadata": {},
   "outputs": [],
   "source": [
    "%load_ext autoreload\n",
    "%autoreload 2\n",
    "import sys\n",
    "import time\n",
    "sys.path.append('..')\n",
    "import numpy as np\n",
    "import pandas as pd\n",
    "import networkx as nx\n",
    "import matplotlib.pyplot as plt\n",
    "from pandas.plotting import autocorrelation_plot\n",
    "import seaborn as sns\n",
    "\n",
    "import parallelDG.graph.graph as glib\n",
    "import parallelDG.graph.decomposable as dlib\n",
    "import parallelDG.mh_parallel as pdg\n",
    "import parallelDG.graph.junction_tree as jtlib\n",
    "from networkx.drawing.nx_pydot import graphviz_layout\n",
    "import itertools\n",
    "import parallelDG.auxiliary_functions as auxlib\n",
    "\n",
    "sns.set_style(\"whitegrid\")\n",
    "options = {\n",
    "    \"font_size\": 12,\n",
    "    \"node_size\": 1000,\n",
    "    \"node_color\": \"white\",\n",
    "    \"edgecolors\": \"black\",\n",
    "    \"linewidths\": 1,\n",
    "    \"width\": 1,\n",
    "}\n",
    "\n",
    "    \n",
    "def dedup_traj(traj): \n",
    "    print('length traj {}'.format(len(traj)))\n",
    "    new_lst = []\n",
    "    for i in traj:\n",
    "        if not new_lst or new_lst[-1] != i:\n",
    "            new_lst.append(i)\n",
    "    return new_lst\n",
    "    "
   ]
  },
  {
   "cell_type": "markdown",
   "metadata": {},
   "source": [
    "## Testing Jump prior sensitivity\n",
    "\n",
    "* alternate the jump proir threshold from 0 t 1"
   ]
  },
  {
   "cell_type": "markdown",
   "metadata": {},
   "source": [
    "## Generate decomopsable table"
   ]
  },
  {
   "cell_type": "code",
   "execution_count": 2,
   "metadata": {},
   "outputs": [],
   "source": [
    "graph_size = 7"
   ]
  },
  {
   "cell_type": "code",
   "execution_count": null,
   "metadata": {},
   "outputs": [],
   "source": [
    "tic = time.time()\n",
    "all_edges = auxlib.edges_powerset(graph_size)\n",
    "all_graphs_of_size_p = list(auxlib.powerset(all_edges))\n",
    "decomp_table = auxlib.filter_decomposable_graphs(all_graphs_of_size_p, graph_size)\n",
    "print(\"#.all graph {}, #decomp graphs {} of {} nodes\".format(len(all_graphs_of_size_p), \n",
    "                                                              len(decomp_table), \n",
    "                                                              graph_size))\n",
    "toc = time.time()\n",
    "print('time took {:.2f}sec'.format(toc - tic))"
   ]
  },
  {
   "cell_type": "code",
   "execution_count": 11,
   "metadata": {},
   "outputs": [],
   "source": [
    "#auxlib.save_decomposable_table(decomp_table, '7_vertex_decomposable_graphs.csv')\n",
    "decomp_table = pd.read_csv('7_vertex_decomposable_graphs.csv')"
   ]
  },
  {
   "cell_type": "markdown",
   "metadata": {},
   "source": [
    "## Prior sensitivity analysis single move"
   ]
  },
  {
   "cell_type": "code",
   "execution_count": 12,
   "metadata": {},
   "outputs": [],
   "source": [
    "def prior_sensitivity(rho = 0.1, single_move = True):\n",
    "    print('rho {}'.format(rho))\n",
    "    traj = pdg.sample_trajectory_uniform(n_samples =1000000, \n",
    "                                     randomize = 100,\n",
    "                                     graph_prior = ['jumppenalty', rho],\n",
    "                                     graph_size  = graph_size, \n",
    "                                     single_move= single_move,\n",
    "                                     cache = None)\n",
    "    traj.set_graph_trajectories(index_type = 'mcmc_subindex')\n",
    "    #traj.trajectory = dedup_traj(traj.trajectory)\n",
    "    print('length traj {}'.format(len(traj.trajectory)))\n",
    "    graph_table = auxlib.count_decomposable_graphs_trajectories(traj.trajectory)\n",
    "    df = auxlib.join_with_decom_table(graph_table, decomp_table)\n",
    "    df['count_jt'] = df['count'].fillna(0).values/df['n_jt'].values\n",
    "    df['L'] = np.clip(graph_size - df['n_clqs'], 1.0, None)\n",
    "    df['count_t'] = df['count'].fillna(0).values/(df['L'].values ** (df['L'] - 2.0))\n",
    "    def normalize(x):\n",
    "        \"plotting the probability density function\"\n",
    "        x = x.values\n",
    "        a = float(np.sum(x))\n",
    "        b = np.cumsum(x)\n",
    "        return b/a\n",
    "    result = {\n",
    "        'rho': rho, \n",
    "        'single_move': single_move,\n",
    "        'n_jt' : df['n_jt'].values,\n",
    "        'count': normalize(df['count'].fillna(0)), \n",
    "        'count_t': normalize(df['count_t']),\n",
    "        'count_jt': normalize(df['count_jt'])\n",
    "    }\n",
    "    return result"
   ]
  },
  {
   "cell_type": "code",
   "execution_count": 5,
   "metadata": {},
   "outputs": [
    {
     "name": "stderr",
     "output_type": "stream",
     "text": [
      "Metropolis-Hastings - single-move:   0%|          | 1429/999999 [00:00<01:09, 14285.14it/s]"
     ]
    },
    {
     "name": "stdout",
     "output_type": "stream",
     "text": [
      "rho -0.2\n"
     ]
    },
    {
     "name": "stderr",
     "output_type": "stream",
     "text": [
      "Metropolis-Hastings - single-move: 100%|██████████| 999999/999999 [01:17<00:00, 12959.60it/s]\n"
     ]
    },
    {
     "name": "stdout",
     "output_type": "stream",
     "text": [
      "Total of 1000000 updates, for an average of 1.00 per iteration or 12953.51updates/sec\n",
      "Acceptance rate 0.5934\n",
      "mcmc_subindex\n",
      "length traj 1000000\n"
     ]
    },
    {
     "name": "stderr",
     "output_type": "stream",
     "text": [
      "Metropolis-Hastings - single-move:   0%|          | 1145/999999 [00:00<01:27, 11444.85it/s]"
     ]
    },
    {
     "name": "stdout",
     "output_type": "stream",
     "text": [
      "rho 0.0\n"
     ]
    },
    {
     "name": "stderr",
     "output_type": "stream",
     "text": [
      "Metropolis-Hastings - single-move: 100%|██████████| 999999/999999 [01:22<00:00, 12183.70it/s]\n"
     ]
    },
    {
     "name": "stdout",
     "output_type": "stream",
     "text": [
      "Total of 1000000 updates, for an average of 1.00 per iteration or 12177.68updates/sec\n",
      "Acceptance rate 0.7089\n",
      "mcmc_subindex\n",
      "length traj 1000000\n"
     ]
    },
    {
     "name": "stderr",
     "output_type": "stream",
     "text": [
      "Metropolis-Hastings - single-move:   0%|          | 890/999999 [00:00<01:52, 8899.03it/s]"
     ]
    },
    {
     "name": "stdout",
     "output_type": "stream",
     "text": [
      "rho 0.2\n"
     ]
    },
    {
     "name": "stderr",
     "output_type": "stream",
     "text": [
      "Metropolis-Hastings - single-move: 100%|██████████| 999999/999999 [01:21<00:00, 12340.65it/s]\n"
     ]
    },
    {
     "name": "stdout",
     "output_type": "stream",
     "text": [
      "Total of 1000000 updates, for an average of 1.00 per iteration or 12331.35updates/sec\n",
      "Acceptance rate 0.7680\n",
      "mcmc_subindex\n",
      "length traj 1000000\n"
     ]
    },
    {
     "name": "stderr",
     "output_type": "stream",
     "text": [
      "Metropolis-Hastings - single-move:   0%|          | 664/999999 [00:00<02:30, 6636.02it/s]"
     ]
    },
    {
     "name": "stdout",
     "output_type": "stream",
     "text": [
      "rho 0.4\n"
     ]
    },
    {
     "name": "stderr",
     "output_type": "stream",
     "text": [
      "Metropolis-Hastings - single-move: 100%|██████████| 999999/999999 [02:21<00:00, 7086.24it/s] \n"
     ]
    },
    {
     "name": "stdout",
     "output_type": "stream",
     "text": [
      "Total of 1000000 updates, for an average of 1.00 per iteration or 7081.79updates/sec\n",
      "Acceptance rate 0.7743\n",
      "mcmc_subindex\n",
      "length traj 1000000\n"
     ]
    },
    {
     "name": "stderr",
     "output_type": "stream",
     "text": [
      "Metropolis-Hastings - single-move:   0%|          | 625/999999 [00:00<02:39, 6246.25it/s]"
     ]
    },
    {
     "name": "stdout",
     "output_type": "stream",
     "text": [
      "rho 0.6\n"
     ]
    },
    {
     "name": "stderr",
     "output_type": "stream",
     "text": [
      "Metropolis-Hastings - single-move: 100%|██████████| 999999/999999 [01:23<00:00, 11978.92it/s]\n"
     ]
    },
    {
     "name": "stdout",
     "output_type": "stream",
     "text": [
      "Total of 1000000 updates, for an average of 1.00 per iteration or 11964.40updates/sec\n",
      "Acceptance rate 0.7323\n",
      "mcmc_subindex\n",
      "length traj 1000000\n"
     ]
    },
    {
     "name": "stderr",
     "output_type": "stream",
     "text": [
      "Metropolis-Hastings - single-move:   0%|          | 665/999999 [00:00<02:30, 6647.74it/s]"
     ]
    },
    {
     "name": "stdout",
     "output_type": "stream",
     "text": [
      "rho 0.8\n"
     ]
    },
    {
     "name": "stderr",
     "output_type": "stream",
     "text": [
      "Metropolis-Hastings - single-move: 100%|██████████| 999999/999999 [01:20<00:00, 12499.43it/s]\n"
     ]
    },
    {
     "name": "stdout",
     "output_type": "stream",
     "text": [
      "Total of 1000000 updates, for an average of 1.00 per iteration or 12480.61updates/sec\n",
      "Acceptance rate 0.6618\n",
      "mcmc_subindex\n",
      "length traj 1000000\n"
     ]
    },
    {
     "name": "stderr",
     "output_type": "stream",
     "text": [
      "Metropolis-Hastings - single-move:   0%|          | 450/999999 [00:00<03:42, 4499.82it/s]"
     ]
    },
    {
     "name": "stdout",
     "output_type": "stream",
     "text": [
      "rho 1.0\n"
     ]
    },
    {
     "name": "stderr",
     "output_type": "stream",
     "text": [
      "Metropolis-Hastings - single-move: 100%|██████████| 999999/999999 [01:17<00:00, 12867.87it/s]\n"
     ]
    },
    {
     "name": "stdout",
     "output_type": "stream",
     "text": [
      "Total of 1000000 updates, for an average of 1.00 per iteration or 12847.81updates/sec\n",
      "Acceptance rate 0.5758\n",
      "mcmc_subindex\n",
      "length traj 1000000\n"
     ]
    }
   ],
   "source": [
    "rho = [-0.2, 0.0, 0.2, 0.4, 0.6, 0.8, 1.0]\n",
    "#rho = [0.0, 0.2, 0.4, 0.6]\n",
    "res = [prior_sensitivity(rho = r) for r in rho]"
   ]
  },
  {
   "cell_type": "code",
   "execution_count": 7,
   "metadata": {},
   "outputs": [
    {
     "data": {
      "image/png": "[encoded data removed]",
      "text/plain": [
       "<Figure size 720x432 with 1 Axes>"
      ]
     },
     "metadata": {
      "needs_background": "light"
     },
     "output_type": "display_data"
    }
   ],
   "source": [
    "import matplotlib.ticker as ticker\n",
    "plt.figure(figsize=(10, 6))\n",
    "\n",
    "for i, run in enumerate(res): \n",
    "    marker = None\n",
    "    ct = run['count']\n",
    "    color = plt.get_cmap('tab10')(i)\n",
    "    if i == 0:\n",
    "        marker = '^'\n",
    "    if i == len(res) - 1: \n",
    "        marker = 'o'\n",
    "    ax = pd.Series(ct).plot(linestyle= 'solid',\n",
    "                            marker = marker,\n",
    "                            markevery = len(ct) // 10,\n",
    "                            linewidth = 0.75, \n",
    "                            color= color,\n",
    "                            label= r'$\\rho$ = {}'.format(run['rho']))\n",
    "\n",
    "N = len(ct)\n",
    "plt.plot([0, N], [0, 1], color='black', linewidth=1.5, label='Uniform CDF')\n",
    "plt.grid(False)\n",
    "\n",
    "\n",
    "ax.xaxis.set_major_formatter(ticker.FuncFormatter(lambda x, pos: '{:0.1e}'.format(x)))\n",
    "plt.xlabel('Decomposable graphs over 7 vertices',fontsize=14)\n",
    "plt.ylabel('Cumulative distribution function (CDF)', fontsize=14)\n",
    "\n",
    "# Place the legend outside the plot area on the right side\n",
    "legend = plt.legend(title='Single-move sampler', \n",
    "                    fontsize='large', \n",
    "                    bbox_to_anchor=(1.03, 1), \n",
    "                    loc='upper left')\n",
    "\n",
    "plt.setp(legend.get_title(), fontsize='large')\n",
    "\n",
    "# Adjust the right margin to make room for the legend\n",
    "plt.subplots_adjust(right=0.75)\n",
    "\n",
    "plt.savefig('prior_sensitivity_single_move.pdf', format='pdf')\n",
    "plt.show()\n"
   ]
  },
  {
   "cell_type": "markdown",
   "metadata": {},
   "source": [
    "### Parallel move"
   ]
  },
  {
   "cell_type": "code",
   "execution_count": 4,
   "metadata": {},
   "outputs": [],
   "source": [
    "def prior_sensitivity(rho = 0.1, single_move = True):\n",
    "    print('rho {}'.format(rho))\n",
    "    traj = pdg.sample_trajectory_uniform(n_samples =1000000, \n",
    "                                     randomize = 100,\n",
    "                                     graph_prior = ['jumppenalty', rho],\n",
    "                                     graph_size  = graph_size, \n",
    "                                     single_move= single_move,\n",
    "                                     cache = None)\n",
    "    traj.set_graph_trajectories(index_type = 'mcmc_subindex')\n",
    "    #traj.trajectory = dedup_traj(traj.trajectory)\n",
    "    print('length traj {}'.format(len(traj.trajectory)))\n",
    "    graph_table = auxlib.count_decomposable_graphs_trajectories(traj.trajectory)\n",
    "    df = auxlib.join_with_decom_table(graph_table, decomp_table)\n",
    "    df['count_jt'] = df['count'].fillna(0).values/df['n_jt'].values\n",
    "    df['L'] = np.clip(graph_size - df['n_clqs'], 1.0, None)\n",
    "    df['count_t'] = df['count'].fillna(0).values/(df['L'].values ** (df['L'] - 2.0))\n",
    "    def normalize(x):\n",
    "        \"plotting the probability density function\"\n",
    "        x = x.values\n",
    "        a = float(np.sum(x))\n",
    "        b = np.cumsum(x)\n",
    "        return b/a\n",
    "    result = {\n",
    "        'rho': rho, \n",
    "        'single_move': single_move,\n",
    "        'n_jt' : df['n_jt'].values,\n",
    "        'count_serial': normalize(df['count'].fillna(0)), \n",
    "        'count_t_serial': normalize(df['count_t']),\n",
    "        'count_jt_serial': normalize(df['count_jt'])\n",
    "    }\n",
    "    traj.set_graph_trajectories()\n",
    "    #traj.trajectory = dedup_traj(traj.trajectory)\n",
    "    print('length traj {}'.format(len(traj.trajectory)))\n",
    "    graph_table = auxlib.count_decomposable_graphs_trajectories(traj.trajectory)\n",
    "    df['count'] = 0.0\n",
    "    df = auxlib.join_with_decom_table(graph_table, decomp_table)\n",
    "    df['count_jt'] = df['count'].fillna(0).values/df['n_jt'].values\n",
    "    df['L'] = np.clip(graph_size - df['n_clqs'], 1.0, None)\n",
    "    df['count_t'] = df['count'].fillna(0).values/(df['L'].values ** (df['L'] - 2.0))\n",
    "    result.update({\n",
    "        'count': normalize(df['count'].fillna(0)), \n",
    "        'count_t': normalize(df['count_t']),\n",
    "        'count_jt': normalize(df['count_jt'])\n",
    "    }\n",
    "    )\n",
    "    return result"
   ]
  },
  {
   "cell_type": "code",
   "execution_count": 5,
   "metadata": {},
   "outputs": [
    {
     "name": "stderr",
     "output_type": "stream",
     "text": [
      "Metropolis-Hastings - parallel moves:   0%|          | 857/999999 [00:00<01:56, 8565.37it/s]"
     ]
    },
    {
     "name": "stdout",
     "output_type": "stream",
     "text": [
      "rho -0.6\n"
     ]
    },
    {
     "name": "stderr",
     "output_type": "stream",
     "text": [
      "Metropolis-Hastings - parallel moves: 100%|██████████| 999999/999999 [01:50<00:00, 9042.44it/s] \n"
     ]
    },
    {
     "name": "stdout",
     "output_type": "stream",
     "text": [
      "Total of 2706862 updates, for an average of 2.71 per iteration or 24469.49updates/sec\n",
      "Acceptance rate 0.7002\n",
      "mcmc_subindex\n",
      "length traj 2706862\n",
      "mcmc_index\n",
      "length traj 1000000\n"
     ]
    },
    {
     "name": "stderr",
     "output_type": "stream",
     "text": [
      "Metropolis-Hastings - parallel moves:   0%|          | 710/999999 [00:00<02:20, 7095.17it/s]"
     ]
    },
    {
     "name": "stdout",
     "output_type": "stream",
     "text": [
      "rho -0.2\n"
     ]
    },
    {
     "name": "stderr",
     "output_type": "stream",
     "text": [
      "Metropolis-Hastings - parallel moves: 100%|██████████| 999999/999999 [01:50<00:00, 9063.40it/s] \n"
     ]
    },
    {
     "name": "stdout",
     "output_type": "stream",
     "text": [
      "Total of 2356735 updates, for an average of 2.36 per iteration or 21351.12updates/sec\n",
      "Acceptance rate 0.8849\n",
      "mcmc_subindex\n",
      "length traj 2356735\n",
      "mcmc_index\n",
      "length traj 1000000\n"
     ]
    },
    {
     "name": "stderr",
     "output_type": "stream",
     "text": [
      "\r",
      "Metropolis-Hastings - parallel moves:   0%|          | 0/999999 [00:00<?, ?it/s]"
     ]
    },
    {
     "name": "stdout",
     "output_type": "stream",
     "text": [
      "rho 0.0\n"
     ]
    },
    {
     "name": "stderr",
     "output_type": "stream",
     "text": [
      "Metropolis-Hastings - parallel moves: 100%|██████████| 999999/999999 [01:20<00:00, 12414.88it/s]\n"
     ]
    },
    {
     "name": "stdout",
     "output_type": "stream",
     "text": [
      "Total of 2137007 updates, for an average of 2.14 per iteration or 26499.02updates/sec\n",
      "Acceptance rate 0.9838\n",
      "mcmc_subindex\n",
      "length traj 2137007\n",
      "mcmc_index\n",
      "length traj 1000000\n"
     ]
    },
    {
     "name": "stderr",
     "output_type": "stream",
     "text": [
      "Metropolis-Hastings - parallel moves:   0%|          | 1112/999999 [00:00<01:29, 11116.88it/s]"
     ]
    },
    {
     "name": "stdout",
     "output_type": "stream",
     "text": [
      "rho 0.2\n"
     ]
    },
    {
     "name": "stderr",
     "output_type": "stream",
     "text": [
      "Metropolis-Hastings - parallel moves: 100%|██████████| 999999/999999 [01:29<00:00, 11126.57it/s]\n"
     ]
    },
    {
     "name": "stdout",
     "output_type": "stream",
     "text": [
      "Total of 1915532 updates, for an average of 1.92 per iteration or 21291.71updates/sec\n",
      "Acceptance rate 0.8870\n",
      "mcmc_subindex\n",
      "length traj 1915532\n",
      "mcmc_index\n",
      "length traj 1000000\n"
     ]
    },
    {
     "name": "stderr",
     "output_type": "stream",
     "text": [
      "Metropolis-Hastings - parallel moves:   0%|          | 1255/999999 [00:00<01:36, 10328.79it/s]"
     ]
    },
    {
     "name": "stdout",
     "output_type": "stream",
     "text": [
      "rho 0.4\n"
     ]
    },
    {
     "name": "stderr",
     "output_type": "stream",
     "text": [
      "Metropolis-Hastings - parallel moves: 100%|██████████| 999999/999999 [00:56<00:00, 17605.77it/s]\n"
     ]
    },
    {
     "name": "stdout",
     "output_type": "stream",
     "text": [
      "Total of 1734470 updates, for an average of 1.73 per iteration or 30496.48updates/sec\n",
      "Acceptance rate 0.7937\n",
      "mcmc_subindex\n",
      "length traj 1734470\n",
      "mcmc_index\n",
      "length traj 1000000\n"
     ]
    },
    {
     "name": "stderr",
     "output_type": "stream",
     "text": [
      "Metropolis-Hastings - parallel moves:   0%|          | 1279/999999 [00:00<01:18, 12781.54it/s]"
     ]
    },
    {
     "name": "stdout",
     "output_type": "stream",
     "text": [
      "rho 0.8\n"
     ]
    },
    {
     "name": "stderr",
     "output_type": "stream",
     "text": [
      "Metropolis-Hastings - parallel moves: 100%|██████████| 999999/999999 [00:48<00:00, 20784.52it/s]\n"
     ]
    },
    {
     "name": "stdout",
     "output_type": "stream",
     "text": [
      "Total of 1439986 updates, for an average of 1.44 per iteration or 29873.34updates/sec\n",
      "Acceptance rate 0.6198\n",
      "mcmc_subindex\n",
      "length traj 1439986\n",
      "mcmc_index\n",
      "length traj 1000000\n"
     ]
    }
   ],
   "source": [
    "rho = [-0.6, -0.2, 0.0, 0.2, 0.4, 0.8]\n",
    "res = [prior_sensitivity(rho = r, single_move=False) for r in rho]"
   ]
  },
  {
   "cell_type": "code",
   "execution_count": 7,
   "metadata": {},
   "outputs": [
    {
     "data": {
      "image/png": "[encoded data removed]",
      "text/plain": [
       "<Figure size 720x432 with 1 Axes>"
      ]
     },
     "metadata": {
      "needs_background": "light"
     },
     "output_type": "display_data"
    }
   ],
   "source": [
    "import matplotlib.pyplot as plt\n",
    "import matplotlib.colors as mcolors\n",
    "import matplotlib.ticker as ticker\n",
    "import matplotlib.lines as mlines\n",
    "\n",
    "plt.figure(figsize=(10, 6))\n",
    "\n",
    "for i, run in enumerate(res):\n",
    "    marker = None\n",
    "    if i == 0:\n",
    "        marker = '^'\n",
    "    if i == len(res) - 1: \n",
    "        marker = 'o'\n",
    "    ct = run['count']\n",
    "    ct_serial = run['count_serial']\n",
    "    color = plt.get_cmap('tab10')(i)\n",
    "    ax = pd.Series(ct).plot(linestyle='solid', \n",
    "                            linewidth = 0.75,\n",
    "                            marker = marker,\n",
    "                            markevery = len(ct) // 10,\n",
    "                            color= color,\n",
    "                            label= r'$\\rho$ = {}'.format(run['rho']))\n",
    "    ax = pd.Series(ct_serial).plot(linestyle='dashed',\n",
    "                                   marker = marker,\n",
    "                                   markevery = len(ct_serial) // 10,\n",
    "                                   linewidth = 0.75, \n",
    "                                   color= color, label='')\n",
    "\n",
    "N = len(ct)\n",
    "plt.plot([0, N], [0, 1], color='black', linewidth=1.5, label='Uniform CDF')\n",
    "plt.grid(False)\n",
    "\n",
    "\n",
    "\n",
    "ax.xaxis.set_major_formatter(ticker.FuncFormatter(lambda x, pos: '{:0.1e}'.format(x)))\n",
    "plt.xlabel('Decomposable graphs over 7 vertices',fontsize=14)\n",
    "plt.ylabel('Cumulative distribution function (CDF)', fontsize=14)\n",
    "\n",
    "\n",
    "# Create custom lines\n",
    "parallel_line = mlines.Line2D([], [], color='black', linewidth=0.75, label='Parallel')\n",
    "serial_line = mlines.Line2D([], [], color='black', linestyle='dashed', linewidth=0.75, label='Serial')\n",
    "\n",
    "# Get the handles and labels from the current axes\n",
    "handles, labels = plt.gca().get_legend_handles_labels()\n",
    "\n",
    "# Add the custom lines to the handles and labels\n",
    "handles.extend([parallel_line, serial_line])\n",
    "labels.extend(['Parallel', 'Serial'])\n",
    "\n",
    "\n",
    "# Place the legend outside the plot area on the right side\n",
    "legend = plt.legend(handles, labels,\n",
    "                    title='Parallel sampler', \n",
    "                    fontsize='large', \n",
    "                    bbox_to_anchor=(1.03, 1), \n",
    "                    loc='upper left')\n",
    "plt.setp(legend.get_title(), fontsize='large')\n",
    "\n",
    "# Adjust the right margin to make room for the legend\n",
    "plt.subplots_adjust(right=0.75)\n",
    "\n",
    "plt.savefig('prior_sensitivity_parallel.pdf', format='pdf')\n",
    "plt.show()\n"
   ]
  },
  {
   "cell_type": "markdown",
   "metadata": {},
   "source": [
    "## Time estimations"
   ]
  },
  {
   "cell_type": "code",
   "execution_count": 3,
   "metadata": {},
   "outputs": [],
   "source": [
    "def run_model(p):\n",
    "    delta = 5\n",
    "    n_samples = 100000\n",
    "    randomize  = 100\n",
    "    graph_prior = ['uniform']\n",
    "    tic = time.time()\n",
    "    print(p)\n",
    "    traj = pdg.traj = pdg.sample_trajectory_uniform(\n",
    "                                    n_samples=n_samples,\n",
    "                                     randomize=randomize, \n",
    "                                     graph_size  = p,\n",
    "                                     graph_prior = graph_prior,\n",
    "                                     delta = delta,\n",
    "                                     singe_move = False)\n",
    "    toc = time.time()\n",
    "    print('Time taken {:.2f}sec'.format(toc-tic))\n",
    "    traj_single = pdg.traj = pdg.sample_trajectory_uniform(\n",
    "                                     n_samples=n_samples,\n",
    "                                     randomize=randomize,\n",
    "                                     graph_size  = p,\n",
    "                                     graph_prior = graph_prior,\n",
    "                                     delta = delta, \n",
    "                                     single_move = True)\n",
    "    return (p, 1000 * traj.time/traj.n_updates, 1000 * traj.time/n_samples, 1000 * traj_single.time/n_samples)"
   ]
  },
  {
   "cell_type": "code",
   "execution_count": 7,
   "metadata": {},
   "outputs": [
    {
     "name": "stderr",
     "output_type": "stream",
     "text": [
      "Metropolis-Hastings - parallel moves:   1%|▏         | 1331/99999 [00:00<00:08, 11270.09it/s]"
     ]
    },
    {
     "name": "stdout",
     "output_type": "stream",
     "text": [
      "10\n"
     ]
    },
    {
     "name": "stderr",
     "output_type": "stream",
     "text": [
      "Metropolis-Hastings - parallel moves: 100%|██████████| 99999/99999 [00:07<00:00, 13358.70it/s]\n",
      "Metropolis-Hastings - single-move:   2%|▏         | 1994/99999 [00:00<00:04, 19938.21it/s]"
     ]
    },
    {
     "name": "stdout",
     "output_type": "stream",
     "text": [
      "Total of 243702 updates, for an average of 2.44 per iteration or 32514.49updates/sec\n",
      "Acceptance rate 0.9868\n",
      "Time taken 7.50sec\n"
     ]
    },
    {
     "name": "stderr",
     "output_type": "stream",
     "text": [
      "Metropolis-Hastings - single-move: 100%|██████████| 99999/99999 [00:05<00:00, 19394.90it/s]\n",
      "Metropolis-Hastings - parallel moves:   1%|          | 821/99999 [00:00<00:12, 8199.84it/s]"
     ]
    },
    {
     "name": "stdout",
     "output_type": "stream",
     "text": [
      "Total of 100000 updates, for an average of 1.00 per iteration or 19376.06updates/sec\n",
      "Acceptance rate 0.8844\n",
      "50\n"
     ]
    },
    {
     "name": "stderr",
     "output_type": "stream",
     "text": [
      "Metropolis-Hastings - parallel moves: 100%|██████████| 99999/99999 [00:21<00:00, 4599.06it/s]\n",
      "Metropolis-Hastings - single-move:   1%|          | 1164/99999 [00:00<00:08, 11639.21it/s]"
     ]
    },
    {
     "name": "stdout",
     "output_type": "stream",
     "text": [
      "Total of 535470 updates, for an average of 5.35 per iteration or 24622.23updates/sec\n",
      "Acceptance rate 0.9948\n",
      "Time taken 21.80sec\n"
     ]
    },
    {
     "name": "stderr",
     "output_type": "stream",
     "text": [
      "Metropolis-Hastings - single-move: 100%|██████████| 99999/99999 [00:07<00:00, 13297.01it/s]\n",
      "Metropolis-Hastings - parallel moves:   1%|          | 500/99999 [00:00<00:21, 4720.68it/s]"
     ]
    },
    {
     "name": "stdout",
     "output_type": "stream",
     "text": [
      "Total of 100000 updates, for an average of 1.00 per iteration or 13289.20updates/sec\n",
      "Acceptance rate 0.8801\n",
      "100\n"
     ]
    },
    {
     "name": "stderr",
     "output_type": "stream",
     "text": [
      "Metropolis-Hastings - parallel moves: 100%|██████████| 99999/99999 [01:02<00:00, 1609.79it/s]\n",
      "Metropolis-Hastings - single-move:   0%|          | 469/99999 [00:00<00:21, 4689.71it/s]"
     ]
    },
    {
     "name": "stdout",
     "output_type": "stream",
     "text": [
      "Total of 813677 updates, for an average of 8.14 per iteration or 13097.75updates/sec\n",
      "Acceptance rate 0.9967\n",
      "Time taken 62.23sec\n"
     ]
    },
    {
     "name": "stderr",
     "output_type": "stream",
     "text": [
      "Metropolis-Hastings - single-move: 100%|██████████| 99999/99999 [00:24<00:00, 4138.24it/s]\n"
     ]
    },
    {
     "name": "stdout",
     "output_type": "stream",
     "text": [
      "Total of 100000 updates, for an average of 1.00 per iteration or 4137.42updates/sec\n",
      "Acceptance rate 0.8842\n",
      "150\n"
     ]
    },
    {
     "name": "stderr",
     "output_type": "stream",
     "text": [
      "Metropolis-Hastings - parallel moves: 100%|██████████| 99999/99999 [01:48<00:00, 920.50it/s] \n",
      "Metropolis-Hastings - single-move:   0%|          | 216/99999 [00:00<00:46, 2159.46it/s]"
     ]
    },
    {
     "name": "stdout",
     "output_type": "stream",
     "text": [
      "Total of 1095401 updates, for an average of 10.95 per iteration or 10082.91updates/sec\n",
      "Acceptance rate 0.9974\n",
      "Time taken 108.96sec\n"
     ]
    },
    {
     "name": "stderr",
     "output_type": "stream",
     "text": [
      "Metropolis-Hastings - single-move: 100%|██████████| 99999/99999 [00:45<00:00, 2175.55it/s]"
     ]
    },
    {
     "name": "stdout",
     "output_type": "stream",
     "text": [
      "Total of 100000 updates, for an average of 1.00 per iteration or 2175.34updates/sec\n",
      "Acceptance rate 0.8866\n"
     ]
    },
    {
     "name": "stderr",
     "output_type": "stream",
     "text": [
      "\n"
     ]
    }
   ],
   "source": [
    "p_range = [10, 50, 100, 150] #,200, 300, 500]\n",
    "res = [run_model(p) for p in p_range]"
   ]
  },
  {
   "cell_type": "code",
   "execution_count": 8,
   "metadata": {},
   "outputs": [
    {
     "data": {
      "text/html": [
       "<div>\n",
       "<style scoped>\n",
       "    .dataframe tbody tr th:only-of-type {\n",
       "        vertical-align: middle;\n",
       "    }\n",
       "\n",
       "    .dataframe tbody tr th {\n",
       "        vertical-align: top;\n",
       "    }\n",
       "\n",
       "    .dataframe thead th {\n",
       "        text-align: right;\n",
       "    }\n",
       "</style>\n",
       "<table border=\"1\" class=\"dataframe\">\n",
       "  <thead>\n",
       "    <tr style=\"text-align: right;\">\n",
       "      <th></th>\n",
       "      <th>n</th>\n",
       "      <th>serial</th>\n",
       "      <th>parallel</th>\n",
       "      <th>single_move</th>\n",
       "    </tr>\n",
       "  </thead>\n",
       "  <tbody>\n",
       "    <tr>\n",
       "      <th>0</th>\n",
       "      <td>10</td>\n",
       "      <td>0.030756</td>\n",
       "      <td>0.074952</td>\n",
       "      <td>0.051610</td>\n",
       "    </tr>\n",
       "    <tr>\n",
       "      <th>1</th>\n",
       "      <td>50</td>\n",
       "      <td>0.040614</td>\n",
       "      <td>0.217474</td>\n",
       "      <td>0.075249</td>\n",
       "    </tr>\n",
       "    <tr>\n",
       "      <th>2</th>\n",
       "      <td>100</td>\n",
       "      <td>0.076349</td>\n",
       "      <td>0.621234</td>\n",
       "      <td>0.241697</td>\n",
       "    </tr>\n",
       "    <tr>\n",
       "      <th>3</th>\n",
       "      <td>150</td>\n",
       "      <td>0.099178</td>\n",
       "      <td>1.086394</td>\n",
       "      <td>0.459699</td>\n",
       "    </tr>\n",
       "  </tbody>\n",
       "</table>\n",
       "</div>"
      ],
      "text/plain": [
       "     n    serial  parallel  single_move\n",
       "0   10  0.030756  0.074952     0.051610\n",
       "1   50  0.040614  0.217474     0.075249\n",
       "2  100  0.076349  0.621234     0.241697\n",
       "3  150  0.099178  1.086394     0.459699"
      ]
     },
     "execution_count": 8,
     "metadata": {},
     "output_type": "execute_result"
    }
   ],
   "source": [
    "df = pd.DataFrame(res, columns=['n', 'serial', 'parallel', 'single_move'])\n",
    "df"
   ]
  },
  {
   "cell_type": "code",
   "execution_count": 9,
   "metadata": {},
   "outputs": [
    {
     "data": {
      "text/plain": [
       "<matplotlib.legend.Legend at 0x7fdbd010d610>"
      ]
     },
     "execution_count": 9,
     "metadata": {},
     "output_type": "execute_result"
    },
    {
     "data": {
      "image/png": "[encoded data removed]",
      "text/plain": [
       "<Figure size 432x360 with 1 Axes>"
      ]
     },
     "metadata": {
      "needs_background": "light"
     },
     "output_type": "display_data"
    }
   ],
   "source": [
    "df.plot(x='n', \n",
    "        marker='o', \n",
    "        color=['black','red', 'blue' ], \n",
    "        style = ['-', '--', ':'], \n",
    "        figsize=(6,5))\n",
    "plt.ylabel('Seconds per 1000 iterations', fontsize=14)\n",
    "plt.xlabel('Number of nodes', fontsize=14)\n",
    "plt.grid(False)\n",
    "plt.legend(['Serial', 'Parallel', 'Single-move'],frameon=False)\n",
    "#plt.savefig('', dpi = 600, bbox_inches='tight')\n",
    "#save_location('time_per_1000_updates')"
   ]
  },
  {
   "cell_type": "code",
   "execution_count": 10,
   "metadata": {},
   "outputs": [
    {
     "name": "stderr",
     "output_type": "stream",
     "text": [
      "Metropolis-Hastings - single-move: 100%|██████████| 999999/999999 [00:47<00:00, 20859.36it/s]"
     ]
    },
    {
     "name": "stdout",
     "output_type": "stream",
     "text": [
      "Total of 1000000 updates, for an average of 1.00 per iteration or 20846.85updates/sec\n",
      "Acceptance rate 0.8816\n"
     ]
    },
    {
     "name": "stderr",
     "output_type": "stream",
     "text": [
      "\n"
     ]
    }
   ],
   "source": [
    "traj = pdg.sample_trajectory_uniform(n_samples =1000000, \n",
    "                                     randomize = 100,\n",
    "                                     graph_prior = ['uniform'],\n",
    "                                     graph_size  = graph_size, \n",
    "                                     single_move= True,\n",
    "                                     cache = None)"
   ]
  },
  {
   "cell_type": "code",
   "execution_count": 11,
   "metadata": {},
   "outputs": [
    {
     "name": "stderr",
     "output_type": "stream",
     "text": [
      "Metropolis-Hastings - parallel moves: 100%|██████████| 999999/999999 [01:06<00:00, 15106.88it/s]"
     ]
    },
    {
     "name": "stdout",
     "output_type": "stream",
     "text": [
      "Total of 2024347 updates, for an average of 2.02 per iteration or 30567.47updates/sec\n",
      "Acceptance rate 0.9826\n"
     ]
    },
    {
     "name": "stderr",
     "output_type": "stream",
     "text": [
      "\n"
     ]
    }
   ],
   "source": [
    "traj = pdg.sample_trajectory_uniform(n_samples =1000000, \n",
    "                                     randomize = 100,\n",
    "                                     graph_prior = ['uniform'],\n",
    "                                     graph_size  = graph_size, \n",
    "                                     single_move= False,\n",
    "                                     cache = None)"
   ]
  },
  {
   "cell_type": "code",
   "execution_count": 5,
   "metadata": {},
   "outputs": [],
   "source": [
    "## Wtih randomi_jt\n",
    "### single-move 64 second for 1M\n",
    "### paralllel 64 seconds for 2M\n",
    "\n",
    "## with t.randomize()\n",
    "### Single-move 52 seoncds 1M\n",
    "### Parallel 70 sec for 2M\n",
    "\n",
    "### within t.randomize_at_sep_single()\n",
    "### single-move  56 sec\n",
    "### parallel move 65 2M"
   ]
  },
  {
   "cell_type": "code",
   "execution_count": null,
   "metadata": {},
   "outputs": [],
   "source": []
  }
 ],
 "metadata": {
  "kernelspec": {
   "display_name": "Python 2",
   "language": "python",
   "name": "python2"
  },
  "language_info": {
   "codemirror_mode": {
    "name": "ipython",
    "version": 2
   },
   "file_extension": ".py",
   "mimetype": "text/x-python",
   "name": "python",
   "nbconvert_exporter": "python",
   "pygments_lexer": "ipython2",
   "version": "2.7.18"
  }
 },
 "nbformat": 4,
 "nbformat_minor": 2
}
