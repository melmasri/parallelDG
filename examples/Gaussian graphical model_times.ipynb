{
 "cells": [
  {
   "cell_type": "markdown",
   "metadata": {},
   "source": [
    "## Gaussian decomposable graphical model"
   ]
  },
  {
   "cell_type": "markdown",
   "metadata": {},
   "source": [
    "Fitting a Gaussian decomposable graphical model to an auto-regressive G. "
   ]
  },
  {
   "cell_type": "code",
   "execution_count": 9,
   "metadata": {},
   "outputs": [],
   "source": [
    "SAVE_PLOTS = False\n",
    "SAVE_LOC =  ''"
   ]
  },
  {
   "cell_type": "code",
   "execution_count": 2,
   "metadata": {},
   "outputs": [],
   "source": [
    "%load_ext autoreload\n",
    "%autoreload 2\n",
    "import sys\n",
    "sys.path.append('..')\n",
    "\n",
    "import numpy as np\n",
    "import pandas as pd\n",
    "import networkx as nx\n",
    "import matplotlib.pyplot as plt\n",
    "import seaborn as sns\n",
    "\n",
    "import time\n",
    "from scipy.interpolate import make_interp_spline\n",
    "from parallelDG.graph import trajectory\n",
    "import parallelDG.graph.graph as glib\n",
    "import parallelDG.graph.decomposable as dlib\n",
    "import parallelDG.distributions.g_intra_class as gic\n",
    "import parallelDG.auxiliary_functions as aux\n",
    "from parallelDG.distributions import discrete_dec_log_linear as loglin\n",
    "import parallelDG.mh_parallel as pdg\n",
    "from networkx.drawing.nx_pydot import graphviz_layout\n",
    "sns.set_style(\"whitegrid\")\n",
    "options = {\n",
    "    \"font_size\": 8,\n",
    "    \"node_size\": 100,\n",
    "    \"node_color\": \"white\",\n",
    "    \"edgecolors\": \"black\",\n",
    "    \"linewidths\": 1,\n",
    "    \"width\": 1,\n",
    "}\n",
    "def save_location(filename, loc = SAVE_LOC):\n",
    "    if SAVE_PLOTS:\n",
    "        plt.savefig(loc + filename + '.png', dpi = 600, bbox_inches='tight')\n",
    "    else: \n",
    "        plt.show()\n",
    "    \n",
    "def smooth(x, y):\n",
    "    if not x: \n",
    "        x = list(range(len(y)))\n",
    "    X_Y_Spline = make_interp_spline(x, y, k=3)\n",
    "    # Returns evenly spaced numbers\n",
    "    # over a specified interval.\n",
    "    X_ = np.linspace(np.min(x), np.max(x), 500)\n",
    "    Y_ = X_Y_Spline(X_)\n",
    "    return X_, Y_"
   ]
  },
  {
   "cell_type": "markdown",
   "metadata": {},
   "source": [
    "## Speed analysis"
   ]
  },
  {
   "cell_type": "code",
   "execution_count": 3,
   "metadata": {},
   "outputs": [],
   "source": [
    "def run_model(p):\n",
    "    sigma2 = 1.0\n",
    "    rho = 0.9\n",
    "    n = p\n",
    "    delta = 5\n",
    "    #seed = p\n",
    "    #np.random.seed(p) # generates same data as in the paper\n",
    "    ar_graph = dlib.sample_random_AR_graph(n_dim=p, max_bandwidth=delta)\n",
    "    ar_cov_mat = gic.cov_matrix(ar_graph, rho, sigma2)\n",
    "    ar_df = pd.DataFrame(np.random.multivariate_normal(np.zeros(p), ar_cov_mat, n))\n",
    "    n_samples = 100000\n",
    "    randomize  = 100\n",
    "    graph_prior = ['uniform']\n",
    "    tic = time.time()\n",
    "    traj = pdg.sample_trajectory_ggm(dataframe=ar_df, \n",
    "                                     n_samples=n_samples,\n",
    "                                     randomize=randomize, \n",
    "                                     graph_prior = graph_prior,\n",
    "                                     delta = delta,\n",
    "                                     singe_move = False)\n",
    "    toc = time.time()\n",
    "    print('Time taken {:.2f}sec'.format(toc-tic))\n",
    "    traj_single = pdg.sample_trajectory_ggm(dataframe=ar_df, \n",
    "                                     n_samples=n_samples,\n",
    "                                     randomize=randomize, \n",
    "                                     graph_prior = graph_prior,\n",
    "                                     delta = delta, \n",
    "                                     single_move = True)\n",
    "    return (p, 1000 * traj.time/traj.n_updates, 1000 * traj.time/n_samples, 1000 * traj_single.time/n_samples)"
   ]
  },
  {
   "cell_type": "code",
   "execution_count": 4,
   "metadata": {},
   "outputs": [
    {
     "name": "stderr",
     "output_type": "stream",
     "text": [
      "Metropolis-Hastings - parallel moves: 100%|██████████| 99999/99999 [00:08<00:00, 11145.02it/s]\n",
      "Metropolis-Hastings - single-move:   1%|▏         | 1439/99999 [00:00<00:06, 14387.41it/s]"
     ]
    },
    {
     "name": "stdout",
     "output_type": "stream",
     "text": [
      "Total of 285982 updates, for an average of 2.86 per iteration or 31846.64updates/sec\n",
      "Acceptance rate 0.9124\n",
      "Time taken 8.98sec\n"
     ]
    },
    {
     "name": "stderr",
     "output_type": "stream",
     "text": [
      "Metropolis-Hastings - single-move: 100%|██████████| 99999/99999 [00:06<00:00, 15305.49it/s]\n",
      "Metropolis-Hastings - parallel moves:   0%|          | 264/99999 [00:00<00:38, 2615.99it/s]"
     ]
    },
    {
     "name": "stdout",
     "output_type": "stream",
     "text": [
      "Total of 100000 updates, for an average of 1.00 per iteration or 15288.63updates/sec\n",
      "Acceptance rate 0.5654\n"
     ]
    },
    {
     "name": "stderr",
     "output_type": "stream",
     "text": [
      "Metropolis-Hastings - parallel moves: 100%|██████████| 99999/99999 [00:13<00:00, 7195.09it/s]\n",
      "Metropolis-Hastings - single-move:   1%|          | 621/99999 [00:00<00:16, 6208.07it/s]"
     ]
    },
    {
     "name": "stdout",
     "output_type": "stream",
     "text": [
      "Total of 255847 updates, for an average of 2.56 per iteration or 18397.59updates/sec\n",
      "Acceptance rate 0.5078\n",
      "Time taken 13.91sec\n"
     ]
    },
    {
     "name": "stderr",
     "output_type": "stream",
     "text": [
      "Metropolis-Hastings - single-move: 100%|██████████| 99999/99999 [00:10<00:00, 9239.25it/s] \n",
      "Metropolis-Hastings - parallel moves:   0%|          | 0/99999 [00:00<?, ?it/s]"
     ]
    },
    {
     "name": "stdout",
     "output_type": "stream",
     "text": [
      "Total of 100000 updates, for an average of 1.00 per iteration or 9234.06updates/sec\n",
      "Acceptance rate 0.1551\n"
     ]
    },
    {
     "name": "stderr",
     "output_type": "stream",
     "text": [
      "Metropolis-Hastings - parallel moves: 100%|██████████| 99999/99999 [00:20<00:00, 4810.14it/s]\n",
      "Metropolis-Hastings - single-move:   0%|          | 352/99999 [00:00<00:28, 3519.06it/s]"
     ]
    },
    {
     "name": "stdout",
     "output_type": "stream",
     "text": [
      "Total of 265855 updates, for an average of 2.66 per iteration or 12779.82updates/sec\n",
      "Acceptance rate 0.4870\n",
      "Time taken 20.82sec\n"
     ]
    },
    {
     "name": "stderr",
     "output_type": "stream",
     "text": [
      "Metropolis-Hastings - single-move: 100%|██████████| 99999/99999 [00:15<00:00, 6396.64it/s]\n",
      "Metropolis-Hastings - parallel moves:   0%|          | 0/99999 [00:00<?, ?it/s]"
     ]
    },
    {
     "name": "stdout",
     "output_type": "stream",
     "text": [
      "Total of 100000 updates, for an average of 1.00 per iteration or 6394.29updates/sec\n",
      "Acceptance rate 0.1475\n"
     ]
    },
    {
     "name": "stderr",
     "output_type": "stream",
     "text": [
      "Metropolis-Hastings - parallel moves: 100%|██████████| 99999/99999 [00:29<00:00, 3393.79it/s]\n",
      "Metropolis-Hastings - single-move:   0%|          | 200/99999 [00:00<00:54, 1846.99it/s]"
     ]
    },
    {
     "name": "stdout",
     "output_type": "stream",
     "text": [
      "Total of 283029 updates, for an average of 2.83 per iteration or 9600.97updates/sec\n",
      "Acceptance rate 0.5015\n",
      "Time taken 29.52sec\n"
     ]
    },
    {
     "name": "stderr",
     "output_type": "stream",
     "text": [
      "Metropolis-Hastings - single-move: 100%|██████████| 99999/99999 [00:28<00:00, 3484.38it/s]\n"
     ]
    },
    {
     "name": "stdout",
     "output_type": "stream",
     "text": [
      "Total of 100000 updates, for an average of 1.00 per iteration or 3483.65updates/sec\n",
      "Acceptance rate 0.1400\n"
     ]
    },
    {
     "name": "stderr",
     "output_type": "stream",
     "text": [
      "Metropolis-Hastings - parallel moves: 100%|██████████| 99999/99999 [00:44<00:00, 2254.99it/s]\n",
      "Metropolis-Hastings - single-move:   0%|          | 100/99999 [00:00<01:41, 982.14it/s]"
     ]
    },
    {
     "name": "stdout",
     "output_type": "stream",
     "text": [
      "Total of 324795 updates, for an average of 3.25 per iteration or 7321.60updates/sec\n",
      "Acceptance rate 0.4960\n",
      "Time taken 44.41sec\n"
     ]
    },
    {
     "name": "stderr",
     "output_type": "stream",
     "text": [
      "Metropolis-Hastings - single-move: 100%|██████████| 99999/99999 [00:46<00:00, 2154.31it/s]\n"
     ]
    },
    {
     "name": "stdout",
     "output_type": "stream",
     "text": [
      "Total of 100000 updates, for an average of 1.00 per iteration or 2154.04updates/sec\n",
      "Acceptance rate 0.1451\n"
     ]
    },
    {
     "name": "stderr",
     "output_type": "stream",
     "text": [
      "Metropolis-Hastings - parallel moves: 100%|██████████| 99999/99999 [01:20<00:00, 1248.54it/s]\n",
      "Metropolis-Hastings - single-move:   0%|          | 0/99999 [00:00<?, ?it/s]"
     ]
    },
    {
     "name": "stdout",
     "output_type": "stream",
     "text": [
      "Total of 309095 updates, for an average of 3.09 per iteration or 3858.79updates/sec\n",
      "Acceptance rate 0.4661\n",
      "Time taken 80.15sec\n"
     ]
    },
    {
     "name": "stderr",
     "output_type": "stream",
     "text": [
      "Metropolis-Hastings - single-move: 100%|██████████| 99999/99999 [01:31<00:00, 1089.82it/s]\n"
     ]
    },
    {
     "name": "stdout",
     "output_type": "stream",
     "text": [
      "Total of 100000 updates, for an average of 1.00 per iteration or 1089.75updates/sec\n",
      "Acceptance rate 0.1407\n"
     ]
    },
    {
     "name": "stderr",
     "output_type": "stream",
     "text": [
      "Metropolis-Hastings - parallel moves: 100%|██████████| 99999/99999 [03:30<00:00, 474.63it/s] \n"
     ]
    },
    {
     "name": "stdout",
     "output_type": "stream",
     "text": [
      "Total of 339844 updates, for an average of 3.40 per iteration or 1612.93updates/sec\n",
      "Acceptance rate 0.4492\n",
      "Time taken 210.91sec\n"
     ]
    },
    {
     "name": "stderr",
     "output_type": "stream",
     "text": [
      "Metropolis-Hastings - single-move: 100%|██████████| 99999/99999 [03:47<00:00, 440.45it/s]\n"
     ]
    },
    {
     "name": "stdout",
     "output_type": "stream",
     "text": [
      "Total of 100000 updates, for an average of 1.00 per iteration or 440.44updates/sec\n",
      "Acceptance rate 0.1554\n"
     ]
    }
   ],
   "source": [
    "p_range = [10, 50, 100, 150, 200, 300, 500]\n",
    "res = [run_model(p) for p in p_range]"
   ]
  },
  {
   "cell_type": "code",
   "execution_count": 5,
   "metadata": {},
   "outputs": [
    {
     "data": {
      "text/plain": [
       "[(10, 0.03140049018862264, 0.08979974985122681, 0.06540810108184815),\n",
       " (50, 0.05435495462655306, 0.1390655207633972, 0.10829473972320557),\n",
       " (100, 0.07824838756719044, 0.20802725076675416, 0.1563895297050476),\n",
       " (150, 0.10415616724917524, 0.2947921586036682, 0.2870548486709595),\n",
       " (200, 0.1365822534090332, 0.4436123299598694, 0.4642444109916687),\n",
       " (300, 0.2591487696807204, 0.8010158896446228, 0.9176447010040283),\n",
       " (500, 0.6199886417746988, 2.1069941997528074, 2.270474810600281)]"
      ]
     },
     "execution_count": 5,
     "metadata": {},
     "output_type": "execute_result"
    }
   ],
   "source": [
    "res"
   ]
  },
  {
   "cell_type": "code",
   "execution_count": 6,
   "metadata": {},
   "outputs": [
    {
     "data": {
      "text/html": [
       "<div>\n",
       "<style scoped>\n",
       "    .dataframe tbody tr th:only-of-type {\n",
       "        vertical-align: middle;\n",
       "    }\n",
       "\n",
       "    .dataframe tbody tr th {\n",
       "        vertical-align: top;\n",
       "    }\n",
       "\n",
       "    .dataframe thead th {\n",
       "        text-align: right;\n",
       "    }\n",
       "</style>\n",
       "<table border=\"1\" class=\"dataframe\">\n",
       "  <thead>\n",
       "    <tr style=\"text-align: right;\">\n",
       "      <th></th>\n",
       "      <th>n</th>\n",
       "      <th>serial</th>\n",
       "      <th>parallel</th>\n",
       "      <th>single_move</th>\n",
       "    </tr>\n",
       "  </thead>\n",
       "  <tbody>\n",
       "    <tr>\n",
       "      <th>0</th>\n",
       "      <td>10</td>\n",
       "      <td>0.031400</td>\n",
       "      <td>0.089800</td>\n",
       "      <td>0.065408</td>\n",
       "    </tr>\n",
       "    <tr>\n",
       "      <th>1</th>\n",
       "      <td>50</td>\n",
       "      <td>0.054355</td>\n",
       "      <td>0.139066</td>\n",
       "      <td>0.108295</td>\n",
       "    </tr>\n",
       "    <tr>\n",
       "      <th>2</th>\n",
       "      <td>100</td>\n",
       "      <td>0.078248</td>\n",
       "      <td>0.208027</td>\n",
       "      <td>0.156390</td>\n",
       "    </tr>\n",
       "    <tr>\n",
       "      <th>3</th>\n",
       "      <td>150</td>\n",
       "      <td>0.104156</td>\n",
       "      <td>0.294792</td>\n",
       "      <td>0.287055</td>\n",
       "    </tr>\n",
       "    <tr>\n",
       "      <th>4</th>\n",
       "      <td>200</td>\n",
       "      <td>0.136582</td>\n",
       "      <td>0.443612</td>\n",
       "      <td>0.464244</td>\n",
       "    </tr>\n",
       "    <tr>\n",
       "      <th>5</th>\n",
       "      <td>300</td>\n",
       "      <td>0.259149</td>\n",
       "      <td>0.801016</td>\n",
       "      <td>0.917645</td>\n",
       "    </tr>\n",
       "    <tr>\n",
       "      <th>6</th>\n",
       "      <td>500</td>\n",
       "      <td>0.619989</td>\n",
       "      <td>2.106994</td>\n",
       "      <td>2.270475</td>\n",
       "    </tr>\n",
       "  </tbody>\n",
       "</table>\n",
       "</div>"
      ],
      "text/plain": [
       "     n    serial  parallel  single_move\n",
       "0   10  0.031400  0.089800     0.065408\n",
       "1   50  0.054355  0.139066     0.108295\n",
       "2  100  0.078248  0.208027     0.156390\n",
       "3  150  0.104156  0.294792     0.287055\n",
       "4  200  0.136582  0.443612     0.464244\n",
       "5  300  0.259149  0.801016     0.917645\n",
       "6  500  0.619989  2.106994     2.270475"
      ]
     },
     "execution_count": 6,
     "metadata": {},
     "output_type": "execute_result"
    }
   ],
   "source": [
    "df = pd.DataFrame(res, columns=['n', 'serial', 'parallel', 'single_move'])\n",
    "df"
   ]
  },
  {
   "cell_type": "code",
   "execution_count": 10,
   "metadata": {},
   "outputs": [
    {
     "data": {
      "image/png": "[encoded data removed]",
      "text/plain": [
       "<Figure size 432x360 with 1 Axes>"
      ]
     },
     "metadata": {
      "needs_background": "light"
     },
     "output_type": "display_data"
    }
   ],
   "source": [
    "df.plot(x='n', \n",
    "        marker='o', \n",
    "        color=['black','red', 'blue' ], \n",
    "        style = ['-', '--', ':'], \n",
    "        figsize=(6,5))\n",
    "plt.ylabel('Seconds per 1000 iterations', fontsize=14)\n",
    "plt.xlabel('Number of nodes', fontsize=14)\n",
    "plt.grid(False)\n",
    "plt.legend(['Serial', 'Parallel', 'Single-move'],frameon=False)\n",
    "#plt.savefig('', dpi = 600, bbox_inches='tight')\n",
    "save_location('time_per_1000_updates')"
   ]
  },
  {
   "cell_type": "code",
   "execution_count": 8,
   "metadata": {},
   "outputs": [
    {
     "data": {
      "image/png": "[encoded data removed]",
      "text/plain": [
       "<Figure size 432x360 with 1 Axes>"
      ]
     },
     "metadata": {
      "needs_background": "light"
     },
     "output_type": "display_data"
    }
   ],
   "source": [
    "df.plot(x='n', \n",
    "        marker='o', \n",
    "        color=['black','red', 'blue' ], \n",
    "        style = ['-', '--', ':'], \n",
    "        figsize=(6,5))\n",
    "plt.ylabel('Seconds per 1000 iterations', fontsize=14)\n",
    "plt.xlabel('Number of nodes', fontsize=14)\n",
    "plt.grid(False)\n",
    "plt.legend(['Serial', 'Parallel', 'Single-move'],frameon=False)\n",
    "#plt.savefig('', dpi = 600, bbox_inches='tight')\n",
    "save_location('time_per_1000_updates')"
   ]
  },
  {
   "cell_type": "code",
   "execution_count": null,
   "metadata": {},
   "outputs": [],
   "source": []
  }
 ],
 "metadata": {
  "kernelspec": {
   "display_name": "Python 2",
   "language": "python",
   "name": "python2"
  },
  "language_info": {
   "codemirror_mode": {
    "name": "ipython",
    "version": 2
   },
   "file_extension": ".py",
   "mimetype": "text/x-python",
   "name": "python",
   "nbconvert_exporter": "python",
   "pygments_lexer": "ipython2",
   "version": "2.7.18"
  }
 },
 "nbformat": 4,
 "nbformat_minor": 2
}
