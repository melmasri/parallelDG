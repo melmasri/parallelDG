{
 "cells": [
  {
   "cell_type": "markdown",
   "metadata": {},
   "source": [
    "# Comparing all samplers\n",
    "\n",
    "This results depends on [Benchpress](https://github.com/felixleopoldo/benchpress) output\n",
    "\n",
    "Please change the variable BENCHPRESS_LOC to the location of benchpress results, normally in `benchpress/results/`\n"
   ]
  },
  {
   "cell_type": "markdown",
   "metadata": {},
   "source": [
    "## Parameter setup"
   ]
  },
  {
   "cell_type": "code",
   "execution_count": 4,
   "metadata": {},
   "outputs": [],
   "source": [
    "## general setup\n",
    "BENCHPRESS_LOC = '/home/mo/src/decomposable_paper/benchpress/results/'\n",
    "SAVE_LOC = '/home/mo/src/decomposable_paper/benchpress/img/'\n",
    "SAVE_PLOTS = True\n",
    "## model constants\n",
    "graph_model = 'cta'#'cta'  # either cta or bandmat\n"
   ]
  },
  {
   "cell_type": "code",
   "execution_count": 5,
   "metadata": {},
   "outputs": [],
   "source": [
    "## Default constants\n",
    "model_name = {'cta': 'CTA', 'bandmat': 'AR'}\n",
    "model_fullname = {\n",
    "    'cta': 'Christmas Tree Algorithm',\n",
    "    'bandmat': 'Auto-regressive',\n",
    "}\n",
    "\n"
   ]
  },
  {
   "cell_type": "code",
   "execution_count": 6,
   "metadata": {},
   "outputs": [],
   "source": [
    "%load_ext autoreload\n",
    "%autoreload 2\n",
    "import os\n",
    "import sys\n",
    "sys.path.append('..')\n",
    "import seaborn as sns\n",
    "import matplotlib.pyplot as plt\n",
    "import pandas as pd\n",
    "import numpy as np\n",
    "import networkx as nx\n",
    "import matplotlib\n",
    "import parallelDG.auxiliary_functions as aux\n",
    "from parallelDG import mh_greenthomas\n",
    "from parallelDG import mh_parallel\n",
    "import parallelDG.distributions.g_intra_class as gic\n",
    "import parallelDG.graph.decomposable as dlib\n",
    "from networkx.drawing.nx_pydot import graphviz_layout\n",
    "sns.set_style(\"whitegrid\")"
   ]
  },
  {
   "cell_type": "code",
   "execution_count": 7,
   "metadata": {},
   "outputs": [],
   "source": [
    "import tarfile\n",
    "import pandas as pd\n",
    "from io import StringIO\n",
    "\n",
    "def read_csv_from_tar_gz(tar_gz_path, csv_file_name=None):\n",
    "    \"\"\"\n",
    "    Reads a CSV file from a tar.gz archive into a pandas DataFrame.\n",
    "    \n",
    "    Parameters:\n",
    "    - tar_gz_path: str, the path to the tar.gz archive.\n",
    "    - csv_file_name: str, optional, the name of the CSV file to extract. \n",
    "                     If not provided, the first CSV file found will be read.\n",
    "    \n",
    "    Returns:\n",
    "    - A pandas DataFrame containing the data from the CSV file.\n",
    "    \"\"\"\n",
    "    if 'csv' in tar_gz_path: \n",
    "        return pd.read_csv(tar_gz_path)\n",
    "    with tarfile.open(tar_gz_path, \"r:gz\") as tar:\n",
    "        # If a specific CSV file name is provided, use it; otherwise, find the first CSV file\n",
    "        if csv_file_name:\n",
    "            try:\n",
    "                csv_member = tar.getmember(csv_file_name)\n",
    "            except KeyError:\n",
    "                raise FileNotFoundError(f\"The specified CSV file {csv_file_name} was not found in the archive.\")\n",
    "        else:\n",
    "            # Assume there's only one CSV file and extract it\n",
    "            csv_member = next((m for m in tar.getmembers() if m.name.endswith('.csv')), None)\n",
    "            if csv_member is None:\n",
    "                raise FileNotFoundError(\"No CSV file found in the tar.gz archive.\")\n",
    "        \n",
    "        # Extract the CSV file content\n",
    "        f = tar.extractfile(csv_member)\n",
    "        if f is not None:\n",
    "            content = f.read()\n",
    "            # Convert bytes to a string if necessary\n",
    "            if isinstance(content, bytes):\n",
    "                content = content.decode('utf-8')\n",
    "            # Use StringIO to convert the string to a file-like object and read it into a pandas DataFrame\n",
    "            df = pd.read_csv(StringIO(content))\n",
    "            return df\n",
    "        else:\n",
    "            raise Exception(\"Could not extract the CSV file from the tar.gz archive.\")\n",
    "\n",
    "# Example usage:\n",
    "# df = read_csv_from_tar_gz('/path/to/your/archive.tar.gz')\n",
    "# print(df.head())\n"
   ]
  },
  {
   "cell_type": "code",
   "execution_count": 8,
   "metadata": {},
   "outputs": [],
   "source": [
    "def list_with_pattern(pat, ls):\n",
    "    return [l for l in ls if pat in l]\n",
    "\n",
    "def algo_files(location, algo_name = 'parallel', pattern=None): \n",
    "    filelist = []\n",
    "    for root, dir, files in os.walk(BENCHPRESS_LOC): \n",
    "        for file in files: \n",
    "            filelist.append(os.path.join(root,file))\n",
    "    \n",
    "    alg = algo_name\n",
    "    fl = list_with_pattern(alg, filelist)\n",
    "    if pattern: \n",
    "        if type(pattern) is list: \n",
    "            final_ls = fl\n",
    "            for p in pattern: \n",
    "                final_ls = list_with_pattern(p, final_ls)\n",
    "            return sorted(final_ls)\n",
    "        else:\n",
    "            return sorted(list_with_pattern(pattern, fl))\n",
    "    else: \n",
    "        return sorted(fl)\n",
    "    \n",
    "\n",
    "def edges_str_to_list(str, edgesymb=\"-\"):\n",
    "    edges_str = str[1:-1].split(\";\")\n",
    "    edges = [(edge.split(edgesymb)[0], edge.split(edgesymb)[1])\n",
    "             for edge in edges_str if len(edge.split(edgesymb)) == 2]\n",
    "    return edges\n",
    "\n",
    "def size_traj(filename):\n",
    "    edgesymb = \"-\"\n",
    "    g = nx.Graph()\n",
    "    size = []\n",
    "    df = read_csv_from_tar_gz(filename)\n",
    "    if 'subindex' in df.columns: \n",
    "        df.rename(columns={'added_sub': 'added', \n",
    "                           'subindex': 'index', \n",
    "                          'removed_sub': 'removed'}\n",
    "                  , inplace=True)\n",
    "    \n",
    "    for index, row in df.iterrows():\n",
    "            added = edges_str_to_list(row[\"added\"], edgesymb)\n",
    "            removed = edges_str_to_list(row[\"removed\"], edgesymb)\n",
    "            g.add_edges_from(added)\n",
    "            g.remove_edges_from(removed)\n",
    "            size.append(g.size())\n",
    "    df[\"size\"] = size\n",
    "    T = df[\"index\"].iloc[-1]  # approximate length\n",
    "    newindex = pd.Series(range(T))\n",
    "    # removes the two first rows.\n",
    "    df2 = df[[\"index\", \"size\"]][2:].set_index(\"index\")\n",
    "    df2 = df2.reindex(newindex).reset_index().reindex(\n",
    "        columns=df2.columns).fillna(method=\"ffill\")\n",
    "    return df2\n",
    "\n",
    "def num_samples(filename):\n",
    "    df = read_csv_from_tar_gz(filename)\n",
    "    if 'subindex' in df.columns:\n",
    "        a = df['subindex'].iloc[-1]\n",
    "        print(f\"num samples {a}\")\n",
    "    else:\n",
    "        a = df['index'].iloc[-1]\n",
    "        print(f\"num samples {a}\")\n",
    "    return a\n",
    "\n",
    "\n",
    "def size_traj_plot(filename): \n",
    "    df = size_traj(filename)\n",
    "    df[\"size\"].plot()\n",
    "    plt.tight_layout()\n",
    "    plt.xlabel('Sample number')\n",
    "    plt.ylabel('Number of graph edges')\n",
    "    plt.ticklabel_format(axis=\"x\", style=\"sci\", scilimits=(0,0))\n",
    "    return df\n",
    "    #plt.savefig(snakemake.output[\"plot\"])\n",
    "\n",
    "\n",
    "def score_traj_plot(filename): \n",
    "    edgesymb = \"-\"\n",
    "    g = nx.Graph()\n",
    "    df = read_csv_from_tar_gz(filename)\n",
    "    T = df[\"index\"].iloc[-1]  # approximate length\n",
    "\n",
    "    newindex = pd.Series(range(T))\n",
    "      # removes the two first rows.\n",
    "    df2 = df[[\"index\", \"score\"]][2:].set_index(\"index\")\n",
    "    df2 = df2.reindex(newindex).reset_index().reindex(\n",
    "        columns=df2.columns).fillna(method=\"ffill\")\n",
    "    df2[\"score\"].plot()\n",
    "    plt.ticklabel_format(axis=\"x\", style=\"sci\", scilimits=(0,0))\n",
    "    plt.ylabel('Log-likelihood')\n",
    "    plt.xlabel('Sample number')\n",
    "    plt.tight_layout()\n",
    "    return df2\n",
    "    #plt.savefig(snakemake.output[\"plot\"])\n",
    "    \n",
    "    \n",
    "def autocorrelation(traj, lag):\n",
    "    return aux.autocorrelation_plot(traj,lag = lag,\n",
    "                                 return_series=True)\n",
    "\n",
    "def acceptance_ratio(traj):\n",
    "    dx = (np.diff(traj)!=0) * 1.0\n",
    "    ar = np.mean(dx, dtype=float)\n",
    "    par = np.cumsum(dx, dtype=float)/(np.array(range(len(dx))) + 1.0)\n",
    "    print('Acceptance ratio {:2f}'.format(ar))\n",
    "    return ar, par\n",
    "\n",
    "def heatmap_df(filename, burnin_frac=0.5):\n",
    "    edgesymb = \"-\"\n",
    "    g = nx.Graph()\n",
    "    df = read_csv_from_tar_gz(filename)\n",
    "    nodeorder = []\n",
    "    tmpedges = edges_str_to_list(df[\"added\"][0], edgesymb)\n",
    "    nodeorder.append(tmpedges[0][0])\n",
    "    for edge in tmpedges:\n",
    "        nodeorder.append(edge[1])\n",
    "            \n",
    "    full_its = df[\"index\"].iloc[-1]        \n",
    "    totalits = int(full_its * (1.0 - burnin_frac))\n",
    "    burnin_ind = int(full_its * burnin_frac)\n",
    "    \n",
    "    for index, row in df.iterrows():\n",
    "        \n",
    "        if row[\"index\"] == 0:\n",
    "            if burnin_ind == 0:\n",
    "                heatmap = nx.to_numpy_array(g) #this is strange\n",
    "            else:\n",
    "                # Just to init the matrix with the right dimensions  \n",
    "                heatmap = nx.to_numpy_array(g) * 0 \n",
    "\n",
    "        if row[\"index\"] > burnin_ind:\n",
    "            cur_index = df[\"index\"].iloc[index]\n",
    "            prev_index = df[\"index\"].iloc[index-1]\n",
    "                \n",
    "            weight = cur_index - prev_index            \n",
    "\n",
    "            heatmap += nx.to_numpy_array(g, nodelist=nodeorder) * weight\n",
    "\n",
    "        added = edges_str_to_list(row[\"added\"], edgesymb)\n",
    "        removed = edges_str_to_list(row[\"removed\"], edgesymb)\n",
    "        g.add_edges_from(added)\n",
    "        g.remove_edges_from(removed)\n",
    "\n",
    "   \n",
    "    heatmap /= totalits                             \n",
    "    heatmap_df = pd.DataFrame(heatmap)\n",
    "    heatmap_df.columns = g.nodes()\n",
    "    return heatmap_df\n",
    "\n",
    "def plot_heatmap(filename, cbar=True, annot=False, xticklabels=10, yticklabels=10):\n",
    "    heatmap = heatmap_df(filename, 0.5)\n",
    "    plot_graph(heatmap, cbar, annot, xticklabels, yticklabels)\n",
    "    \n",
    "\n",
    "def plot_nx_graph(heatmap):\n",
    "    sns.set_style(\"whitegrid\")\n",
    "    options = {\n",
    "        \"font_size\": 8,\n",
    "        \"node_size\": 100,\n",
    "        \"node_color\": \"white\",\n",
    "        \"edgecolors\": \"black\",\n",
    "        \"linewidths\": 1,\n",
    "        \"width\": 1,\n",
    "    }\n",
    "    heatmap.index = heatmap.columns\n",
    "    ar_graph = nx.from_pandas_adjacency(heatmap)\n",
    "    pos = graphviz_layout(ar_graph, prog=\"fdp\")\n",
    "    nx.draw_networkx(ar_graph,pos=pos, with_labels=False, **options)\n",
    "\n",
    "    # Set margins for the axes so that nodes aren't clipped\n",
    "    ax = plt.gca()\n",
    "    ax.margins(0.20)\n",
    "    plt.axis(\"off\")\n",
    "    \n",
    "\n",
    "def most_samped_graph(filename):\n",
    "    edgesymb = \"-\"\n",
    "    g = nx.Graph()\n",
    "    df = read_csv_from_tar_gz(filename)\n",
    "    most_sampled = aux.most_sampled_graph(traj.trajectory[burnin:])\n",
    "    most_sampled\n",
    "    aux.plot_heatmap(nx.to_numpy_array(most_sampled['g']), xticklabels=10, yticklabels=10)\n",
    "    \n",
    "def plot_graph(heatmap, cbar=True, annot=False, xticklabels=10, yticklabels=10):\n",
    "    heatmap.index = heatmap.columns\n",
    "    mask = np.zeros_like(heatmap)\n",
    "    mask[np.triu_indices_from(mask)] = True\n",
    "\n",
    "    \n",
    "    with sns.axes_style(\"white\"):\n",
    "        ax = sns.heatmap(heatmap, mask=mask, annot=annot,\n",
    "                         cmap=\"Blues\",\n",
    "                         vmin=0.0, vmax=1.0, square=True,\n",
    "                         cbar=cbar,linewidth=1,\n",
    "                         xticklabels=xticklabels,\n",
    "                         yticklabels=yticklabels)\n",
    "\n",
    "        ax.set_xticklabels(ax.get_xticklabels(), rotation=0)\n",
    "        ax.tick_params(axis='x', labelsize=12)\n",
    "        ax.tick_params(axis='y', labelsize=12)\n",
    "\n",
    "        \n",
    "    #sns.set_style(\"whitegrid\")\n",
    "    cax = plt.gcf().axes[-1]\n",
    "    cax.tick_params(labelsize=12)\n",
    "    plt.tight_layout()\n",
    "\n",
    "\n",
    "def custom_roc_curve(true_labels, scores, thresholds):\n",
    "    tpr_list = []\n",
    "    fpr_list = []\n",
    "\n",
    "    # Calculate TPR and FPR for each threshold\n",
    "    for threshold in thresholds:\n",
    "        TP = FP = TN = FN = 0\n",
    "        for score, label in zip(scores, true_labels):\n",
    "            if score >= threshold:\n",
    "                if label == 1:\n",
    "                    TP += 1\n",
    "                else:\n",
    "                    FP += 1\n",
    "            else:\n",
    "                if label == 1:\n",
    "                    FN += 1\n",
    "                else:\n",
    "                    TN += 1\n",
    "\n",
    "        TPR = TP / (TP + FN) if (TP + FN) != 0 else 0\n",
    "        FPR = FP / (FP + TN) if (FP + TN) != 0 else 0\n",
    "\n",
    "        tpr_list.append(TPR)\n",
    "        fpr_list.append(FPR)\n",
    "\n",
    "    return fpr_list, tpr_list\n",
    "    \n",
    "\n",
    "def fpr_tpr(filename_true_graph, filename_traj):\n",
    "    thresholds = np.arange(0, 1.1, 0.1)  # From 0 to 1 with 0.1 increment\n",
    "    adjacency_matrix = read_csv_from_tar_gz(filename_true_graph)\n",
    "    heatmap = heatmap_df(filename_traj, 0.5).to_numpy().flatten()\n",
    "    # Flatten the matrices to create a 1D array\n",
    "    scores = heatmap.flatten() # These are your predicted scores/probabilities\n",
    "    true_labels = adjacency_matrix.to_numpy().flatten() # These are your true binary labels\n",
    "\n",
    "    # Calculate ROC metrics\n",
    "    fpr, tpr = custom_roc_curve(true_labels, scores, thresholds)\n",
    "    return np.array(fpr), np.array(tpr), thresholds\n",
    "\n",
    "def fpr_tpr_files(list_traj, list_true_graphs):\n",
    "    k =  len(list_traj)\n",
    "    fpr = tpr = thresholds = 0.0\n",
    "    for traj, true_graph in zip(list_traj, list_true_graphs):\n",
    "        fpr1, tpr1, thresholds = fpr_tpr(true_graph, traj)\n",
    "        fpr += fpr1 / k\n",
    "        tpr += tpr1 /k\n",
    "    \n",
    "    return fpr, tpr, thresholds\n",
    "    \n",
    "\n",
    "    \n",
    "def create_filename(filename, loc = SAVE_LOC):\n",
    "    return loc + filename + '_' + graph_model\n",
    "\n",
    "    \n",
    "def save_location(filename, loc = SAVE_LOC):\n",
    "    if SAVE_PLOTS:\n",
    "        f = create_filename(filename, loc) + '.jpg'\n",
    "        print(f\"save to: {f}\")\n",
    "        plt.savefig(f, dpi = 600, bbox_inches='tight')\n",
    "        plt.clf()\n",
    "    else: \n",
    "        plt.show()"
   ]
  },
  {
   "cell_type": "code",
   "execution_count": 9,
   "metadata": {},
   "outputs": [],
   "source": [
    "## Extrat location of datafile\n",
    "paralleldg_files = algo_files(BENCHPRESS_LOC, 'parallel', ['parallel=True', graph_model, 'tar.gz'])\n",
    "paralleldg_files = [f for f in paralleldg_files if 'subindex' not in f]\n",
    "paralleldg_files_sub = algo_files(BENCHPRESS_LOC, 'parallel', ['subindex.csv', 'parallel=True', graph_model])\n",
    "gt13_files = algo_files(BENCHPRESS_LOC, 'athomas', ['sampler=2', graph_model, 'tar.gz', 'full_output=False'])\n",
    "gt13_files = [f for f in gt13_files if 'subindex' not in f]\n",
    "\n",
    "\n",
    "paralleldg_files_single_move = algo_files(BENCHPRESS_LOC, 'parallel', ['parallel=False', graph_model, 'tar.gz'])\n",
    "gt13_single_move_files = algo_files(BENCHPRESS_LOC, 'athomas', ['sampler=1', graph_model, 'tar.gz', 'full_output=False'])\n",
    "gt13_single_move_files = [f for f in gt13_single_move_files if 'subindex' not in f]\n",
    "\n",
    "gg99_files = algo_files(BENCHPRESS_LOC, 'athomas', ['sampler=0', graph_model, 'tar.gz', 'full_output=False'])\n",
    "gg99_files = [f for f in gg99_files if 'subindex' not in f]\n",
    "\n",
    "true_graph_files = algo_files(BENCHPRESS_LOC, 'adjmat/',[graph_model, '.csv'])\n",
    "\n",
    "trilearn_files = algo_files(BENCHPRESS_LOC, 'pgibbs', [graph_model, 'adjvecs/adjmat', 'M=1000'])"
   ]
  },
  {
   "cell_type": "code",
   "execution_count": 10,
   "metadata": {
    "scrolled": true
   },
   "outputs": [
    {
     "name": "stdout",
     "output_type": "stream",
     "text": [
      "Number of files (should be equal)  \n",
      "      Parallel \t\t\t\t10 \n",
      "      Single-move \t\t\t10 \n",
      "      \n",
      "      Green & Thomas (2013) - multi-edge \t10 \n",
      "      Green & Thomas (2013) - single-edge \t10 \n",
      "      \n",
      "      Guidici & Green (1999) \t\t10 \n",
      "      \n",
      "      Trilearn \t \t \t\t10 \n",
      "      True graph files \t \t \t10\n"
     ]
    }
   ],
   "source": [
    "print(f\"Number of files (should be equal)  \\n \\\n",
    "     Parallel \\t\\t\\t\\t{len(paralleldg_files)} \\n \\\n",
    "     Single-move \\t\\t\\t{len(paralleldg_files_single_move)} \\n \\\n",
    "     \\n \\\n",
    "     Green & Thomas (2013) - multi-edge \\t{len(gt13_files)} \\n \\\n",
    "     Green & Thomas (2013) - single-edge \\t{len(gt13_single_move_files)} \\n \\\n",
    "     \\n \\\n",
    "     Guidici & Green (1999) \\t\\t{len(gg99_files)} \\n \\\n",
    "     \\n \\\n",
    "     Trilearn \\t \\t \\t\\t{len(trilearn_files)} \\n \\\n",
    "     True graph files \\t \\t \\t{len(true_graph_files)}\")"
   ]
  },
  {
   "cell_type": "code",
   "execution_count": 11,
   "metadata": {},
   "outputs": [],
   "source": [
    "## titles \n",
    "gt13 = 'GT13-m' + ' - ' + model_name[graph_model]\n",
    "gt13_single = 'GT13-s' + ' - ' + model_name[graph_model]\n",
    "gg99 = 'GG99' + ' - ' + model_name[graph_model]\n",
    "parallel = 'Parallel sampler' + ' - ' + model_name[graph_model]\n",
    "single_move = 'Single-move sampler' + ' - ' + model_name[graph_model]\n",
    "trilearn = 'O19 - Gibbs sampler' + ' - ' + model_name[graph_model]"
   ]
  },
  {
   "cell_type": "markdown",
   "metadata": {},
   "source": [
    "# Trace plots of likliehood"
   ]
  },
  {
   "cell_type": "code",
   "execution_count": 244,
   "metadata": {},
   "outputs": [
    {
     "name": "stdout",
     "output_type": "stream",
     "text": [
      "save to: /home/mo/src/decomposable_paper/benchpress/img/gt_loglikelihood_10_traj_cta.jpg\n"
     ]
    },
    {
     "data": {
      "text/plain": [
       "<Figure size 432x288 with 0 Axes>"
      ]
     },
     "metadata": {},
     "output_type": "display_data"
    }
   ],
   "source": [
    "for f in gt13_files:\n",
    "    score_traj_plot(f)\n",
    "plt.ylim((0, 2400))\n",
    "plt.title(gt13)\n",
    "save_location('gt_loglikelihood_10_traj')"
   ]
  },
  {
   "cell_type": "code",
   "execution_count": 245,
   "metadata": {},
   "outputs": [
    {
     "name": "stdout",
     "output_type": "stream",
     "text": [
      "save to: /home/mo/src/decomposable_paper/benchpress/img/gt_single_loglikelihood_10_traj_cta.jpg\n"
     ]
    },
    {
     "data": {
      "text/plain": [
       "<Figure size 432x288 with 0 Axes>"
      ]
     },
     "metadata": {},
     "output_type": "display_data"
    }
   ],
   "source": [
    "for f in gt13_single_move_files:\n",
    "    score_traj_plot(f)\n",
    "plt.ylim((0, 2400))\n",
    "plt.title(gt13_single)\n",
    "save_location('gt_single_loglikelihood_10_traj')"
   ]
  },
  {
   "cell_type": "code",
   "execution_count": 246,
   "metadata": {},
   "outputs": [
    {
     "name": "stdout",
     "output_type": "stream",
     "text": [
      "save to: /home/mo/src/decomposable_paper/benchpress/img/gg_loglikelihood_10_traj_cta.jpg\n"
     ]
    },
    {
     "data": {
      "text/plain": [
       "<Figure size 432x288 with 0 Axes>"
      ]
     },
     "metadata": {},
     "output_type": "display_data"
    }
   ],
   "source": [
    "for f in gg99_files:\n",
    "    score_traj_plot(f)\n",
    "plt.ylim((0, 2400))\n",
    "plt.title(gg99)\n",
    "save_location('gg_loglikelihood_10_traj')"
   ]
  },
  {
   "cell_type": "code",
   "execution_count": 247,
   "metadata": {},
   "outputs": [
    {
     "name": "stdout",
     "output_type": "stream",
     "text": [
      "save to: /home/mo/src/decomposable_paper/benchpress/img/parallel_loglikelihood_10_traj_cta.jpg\n"
     ]
    },
    {
     "data": {
      "text/plain": [
       "<Figure size 432x288 with 0 Axes>"
      ]
     },
     "metadata": {},
     "output_type": "display_data"
    }
   ],
   "source": [
    "for f in paralleldg_files:\n",
    "    score_traj_plot(f)\n",
    "plt.ylim((0,2400))\n",
    "plt.title(parallel)\n",
    "save_location('parallel_loglikelihood_10_traj')"
   ]
  },
  {
   "cell_type": "code",
   "execution_count": 248,
   "metadata": {},
   "outputs": [
    {
     "name": "stdout",
     "output_type": "stream",
     "text": [
      "save to: /home/mo/src/decomposable_paper/benchpress/img/single_move_loglikelihood_10_traj_cta.jpg\n"
     ]
    },
    {
     "data": {
      "text/plain": [
       "<Figure size 432x288 with 0 Axes>"
      ]
     },
     "metadata": {},
     "output_type": "display_data"
    }
   ],
   "source": [
    "for f in paralleldg_files_single_move:\n",
    "    score_traj_plot(f)\n",
    "plt.ylim((0,2400))\n",
    "plt.title(single_move)\n",
    "save_location('single_move_loglikelihood_10_traj')"
   ]
  },
  {
   "cell_type": "code",
   "execution_count": 249,
   "metadata": {},
   "outputs": [
    {
     "name": "stdout",
     "output_type": "stream",
     "text": [
      "save to: /home/mo/src/decomposable_paper/benchpress/img/trilearn_loglikelihood_10_traj_cta.jpg\n"
     ]
    },
    {
     "data": {
      "text/plain": [
       "<Figure size 432x288 with 0 Axes>"
      ]
     },
     "metadata": {},
     "output_type": "display_data"
    }
   ],
   "source": [
    "for f in trilearn_files:\n",
    "    score_traj_plot(f)\n",
    "plt.ylim((0,2400))\n",
    "plt.title(trilearn)\n",
    "save_location('trilearn_loglikelihood_10_traj')"
   ]
  },
  {
   "cell_type": "markdown",
   "metadata": {},
   "source": [
    "# Trace plot of number of edges"
   ]
  },
  {
   "cell_type": "code",
   "execution_count": 250,
   "metadata": {},
   "outputs": [
    {
     "name": "stdout",
     "output_type": "stream",
     "text": [
      "save to: /home/mo/src/decomposable_paper/benchpress/img/gt_size_traceplot_10_traj_cta.jpg\n"
     ]
    },
    {
     "data": {
      "text/plain": [
       "<Figure size 432x288 with 0 Axes>"
      ]
     },
     "metadata": {},
     "output_type": "display_data"
    }
   ],
   "source": [
    "for f in gt13_files:\n",
    "    size_traj_plot(f)\n",
    "plt.title(gt13)\n",
    "save_location('gt_size_traceplot_10_traj')"
   ]
  },
  {
   "cell_type": "code",
   "execution_count": 251,
   "metadata": {},
   "outputs": [
    {
     "name": "stdout",
     "output_type": "stream",
     "text": [
      "save to: /home/mo/src/decomposable_paper/benchpress/img/gt_single_size_traceplot_10_traj_cta.jpg\n"
     ]
    },
    {
     "data": {
      "text/plain": [
       "<Figure size 432x288 with 0 Axes>"
      ]
     },
     "metadata": {},
     "output_type": "display_data"
    }
   ],
   "source": [
    "for f in gt13_single_move_files:\n",
    "    size_traj_plot(f)\n",
    "plt.title(gt13_single)\n",
    "save_location('gt_single_size_traceplot_10_traj')"
   ]
  },
  {
   "cell_type": "code",
   "execution_count": 252,
   "metadata": {},
   "outputs": [
    {
     "name": "stdout",
     "output_type": "stream",
     "text": [
      "save to: /home/mo/src/decomposable_paper/benchpress/img/gg_size_traceplot_10_traj_cta.jpg\n"
     ]
    },
    {
     "data": {
      "text/plain": [
       "<Figure size 432x288 with 0 Axes>"
      ]
     },
     "metadata": {},
     "output_type": "display_data"
    }
   ],
   "source": [
    "for f in gg99_files:\n",
    "    size_traj_plot(f)\n",
    "plt.title(gg99)\n",
    "save_location('gg_size_traceplot_10_traj')"
   ]
  },
  {
   "cell_type": "code",
   "execution_count": 253,
   "metadata": {},
   "outputs": [
    {
     "name": "stdout",
     "output_type": "stream",
     "text": [
      "save to: /home/mo/src/decomposable_paper/benchpress/img/parallel_size_traceplot_10_traj_cta.jpg\n"
     ]
    },
    {
     "data": {
      "text/plain": [
       "<Figure size 432x288 with 0 Axes>"
      ]
     },
     "metadata": {},
     "output_type": "display_data"
    }
   ],
   "source": [
    "for f in paralleldg_files:\n",
    "    size_traj_plot(f)\n",
    "plt.title(parallel)\n",
    "save_location('parallel_size_traceplot_10_traj')"
   ]
  },
  {
   "cell_type": "code",
   "execution_count": 254,
   "metadata": {},
   "outputs": [
    {
     "name": "stdout",
     "output_type": "stream",
     "text": [
      "save to: /home/mo/src/decomposable_paper/benchpress/img/single_move_size_traceplot_10_traj_cta.jpg\n"
     ]
    },
    {
     "data": {
      "text/plain": [
       "<Figure size 432x288 with 0 Axes>"
      ]
     },
     "metadata": {},
     "output_type": "display_data"
    }
   ],
   "source": [
    "for f in paralleldg_files_single_move:\n",
    "    size_traj_plot(f)\n",
    "plt.title(single_move)\n",
    "save_location('single_move_size_traceplot_10_traj')"
   ]
  },
  {
   "cell_type": "code",
   "execution_count": 255,
   "metadata": {},
   "outputs": [
    {
     "name": "stdout",
     "output_type": "stream",
     "text": [
      "save to: /home/mo/src/decomposable_paper/benchpress/img/trilearn_size_traceplot_10_traj_cta.jpg\n"
     ]
    },
    {
     "data": {
      "text/plain": [
       "<Figure size 432x288 with 0 Axes>"
      ]
     },
     "metadata": {},
     "output_type": "display_data"
    }
   ],
   "source": [
    "for f in trilearn_files:\n",
    "    size_traj_plot(f)\n",
    "plt.title(trilearn)\n",
    "save_location('trilearn_size_traceplot_10_traj')"
   ]
  },
  {
   "cell_type": "markdown",
   "metadata": {},
   "source": [
    "# Acceptance ratio"
   ]
  },
  {
   "cell_type": "code",
   "execution_count": 256,
   "metadata": {},
   "outputs": [
    {
     "name": "stdout",
     "output_type": "stream",
     "text": [
      "Acceptance ratio 0.376116\n",
      "Acceptance ratio 0.419335\n",
      "Acceptance ratio 0.374893\n",
      "Acceptance ratio 0.360523\n",
      "Acceptance ratio 0.316748\n",
      "Acceptance ratio 0.361448\n",
      "Acceptance ratio 0.381200\n",
      "Acceptance ratio 0.392744\n",
      "Acceptance ratio 0.391274\n",
      "Acceptance ratio 0.371332\n"
     ]
    }
   ],
   "source": [
    "acc_ratio_list =[]\n",
    "for f in paralleldg_files:\n",
    "    a, par = acceptance_ratio(size_traj(f)['size'])\n",
    "    acc_ratio_list.append(a)\n"
   ]
  },
  {
   "cell_type": "code",
   "execution_count": 257,
   "metadata": {},
   "outputs": [
    {
     "name": "stdout",
     "output_type": "stream",
     "text": [
      "Acceptance ratio 0.191895\n",
      "Acceptance ratio 0.218001\n",
      "Acceptance ratio 0.158747\n",
      "Acceptance ratio 0.138647\n",
      "Acceptance ratio 0.157413\n",
      "Acceptance ratio 0.137685\n",
      "Acceptance ratio 0.160575\n",
      "Acceptance ratio 0.171145\n",
      "Acceptance ratio 0.168342\n",
      "Acceptance ratio 0.163463\n"
     ]
    }
   ],
   "source": [
    "acc_ratio_list_single =[]\n",
    "for f in paralleldg_files_single_move:\n",
    "    a, par = acceptance_ratio(size_traj(f)['size'])\n",
    "    acc_ratio_list_single.append(a)"
   ]
  },
  {
   "cell_type": "code",
   "execution_count": 258,
   "metadata": {},
   "outputs": [
    {
     "name": "stdout",
     "output_type": "stream",
     "text": [
      "Acceptance ratio 0.203403\n",
      "Acceptance ratio 0.219566\n",
      "Acceptance ratio 0.202111\n",
      "Acceptance ratio 0.174284\n",
      "Acceptance ratio 0.153625\n",
      "Acceptance ratio 0.179538\n",
      "Acceptance ratio 0.183844\n",
      "Acceptance ratio 0.184300\n",
      "Acceptance ratio 0.192405\n",
      "Acceptance ratio 0.179090\n"
     ]
    }
   ],
   "source": [
    "acc_ratio_list_sub =[]\n",
    "for f in paralleldg_files_sub:\n",
    "    a, par = acceptance_ratio(size_traj(f)['size'])\n",
    "    acc_ratio_list_sub.append(a)\n"
   ]
  },
  {
   "cell_type": "code",
   "execution_count": 259,
   "metadata": {},
   "outputs": [
    {
     "name": "stdout",
     "output_type": "stream",
     "text": [
      "Acceptance ratio 0.066522\n",
      "Acceptance ratio 0.071196\n",
      "Acceptance ratio 0.062812\n",
      "Acceptance ratio 0.059361\n",
      "Acceptance ratio 0.054055\n",
      "Acceptance ratio 0.059993\n",
      "Acceptance ratio 0.056812\n",
      "Acceptance ratio 0.063403\n",
      "Acceptance ratio 0.065234\n",
      "Acceptance ratio 0.056379\n"
     ]
    }
   ],
   "source": [
    "acc_ratio_list_gt =[]\n",
    "for f in gt13_files:\n",
    "    a, par = acceptance_ratio(size_traj(f)['size'])\n",
    "    acc_ratio_list_gt.append(a)\n"
   ]
  },
  {
   "cell_type": "code",
   "execution_count": 260,
   "metadata": {},
   "outputs": [
    {
     "name": "stdout",
     "output_type": "stream",
     "text": [
      "Acceptance ratio 0.184598\n",
      "Acceptance ratio 0.181148\n",
      "Acceptance ratio 0.181507\n",
      "Acceptance ratio 0.176482\n",
      "Acceptance ratio 0.159808\n",
      "Acceptance ratio 0.175082\n",
      "Acceptance ratio 0.169651\n",
      "Acceptance ratio 0.176042\n",
      "Acceptance ratio 0.165133\n",
      "Acceptance ratio 0.154552\n"
     ]
    }
   ],
   "source": [
    "acc_ratio_list_gt_single =[]\n",
    "for f in gt13_single_move_files:\n",
    "    a, par = acceptance_ratio(size_traj(f)['size'])\n",
    "    acc_ratio_list_gt_single.append(a)\n"
   ]
  },
  {
   "cell_type": "code",
   "execution_count": 261,
   "metadata": {},
   "outputs": [
    {
     "name": "stdout",
     "output_type": "stream",
     "text": [
      "Acceptance ratio 0.073754\n",
      "Acceptance ratio 0.080554\n",
      "Acceptance ratio 0.069165\n",
      "Acceptance ratio 0.061131\n",
      "Acceptance ratio 0.049963\n",
      "Acceptance ratio 0.070336\n",
      "Acceptance ratio 0.078990\n",
      "Acceptance ratio 0.086153\n",
      "Acceptance ratio 0.098450\n",
      "Acceptance ratio 0.065261\n"
     ]
    }
   ],
   "source": [
    "acc_ratio_list_gg =[]\n",
    "for f in gg99_files:\n",
    "    a, par = acceptance_ratio(size_traj(f)['size'])\n",
    "    acc_ratio_list_gg.append(a)\n"
   ]
  },
  {
   "cell_type": "code",
   "execution_count": 262,
   "metadata": {},
   "outputs": [
    {
     "name": "stdout",
     "output_type": "stream",
     "text": [
      "Acceptance ratio 0.065718\n",
      "Acceptance ratio 0.096238\n",
      "Acceptance ratio 0.093856\n",
      "Acceptance ratio 0.072380\n",
      "Acceptance ratio 0.103856\n",
      "Acceptance ratio 0.090754\n",
      "Acceptance ratio 0.079956\n",
      "Acceptance ratio 0.065992\n",
      "Acceptance ratio 0.075005\n",
      "Acceptance ratio 0.073337\n"
     ]
    }
   ],
   "source": [
    "acc_ratio_list_trilean =[]\n",
    "for f in trilearn_files:\n",
    "    a, par = acceptance_ratio(size_traj(f)['size'])\n",
    "    acc_ratio_list_trilean.append(a)"
   ]
  },
  {
   "cell_type": "code",
   "execution_count": 263,
   "metadata": {},
   "outputs": [
    {
     "data": {
      "text/plain": [
       "Text(0, 0.5, 'Acceptance rate (%), over graph-updates.')"
      ]
     },
     "execution_count": 263,
     "metadata": {},
     "output_type": "execute_result"
    },
    {
     "data": {
      "image/png": "[encoded data removed]",
      "text/plain": [
       "<Figure size 432x288 with 1 Axes>"
      ]
     },
     "metadata": {},
     "output_type": "display_data"
    }
   ],
   "source": [
    "df = pd.DataFrame({'Parallel' : np.array(acc_ratio_list) * 100.0, \n",
    "                  'Serial': np.array(acc_ratio_list_sub) * 100.0,\n",
    "                  'Single-move': np.array(acc_ratio_list_single) * 100.0,\n",
    "                   'GT13-m': np.array(acc_ratio_list_gt) * 100.0, \n",
    "                   'GT13-s': np.array(acc_ratio_list_gt_single) * 100.0,\n",
    "                   'GG99': np.array(acc_ratio_list_gg) * 100.0})\n",
    "\n",
    "df.to_csv(create_filename('gt_parallel_acceptance_rate_10_traj' + '.csv'))\n",
    "\n",
    "ax = df.plot(kind='box',\n",
    "             color=dict(boxes='black', whiskers='black', medians='black', caps='black'),\n",
    "             #boxprops=dict(linestyle='-', linewidth=.5),\n",
    "             #flierprops=dict(linestyle='-', linewidth=.5),\n",
    "             #medianprops=dict(linestyle='-', linewidth=.5),\n",
    "             #whiskerprops=dict(linestyle='-', linewidth=.5),\n",
    "             #capprops=dict(linestyle='-', linewidth=.5),\n",
    "             showfliers=False, grid=True, rot=0)\n",
    "\n",
    "ax.set_ylabel('Acceptance rate (%), over graph-updates.')\n",
    "#save_location('gt_parallel_acceptance_rate_10_traj')\n",
    "\n"
   ]
  },
  {
   "cell_type": "markdown",
   "metadata": {},
   "source": [
    "# Autocorrelation"
   ]
  },
  {
   "cell_type": "code",
   "execution_count": 264,
   "metadata": {},
   "outputs": [
    {
     "name": "stderr",
     "output_type": "stream",
     "text": [
      "/home/mo/miniconda3/lib/python3.7/site-packages/ipykernel_launcher.py:10: MatplotlibDeprecationWarning: Calling gca() with keyword arguments was deprecated in Matplotlib 3.4. Starting two minor releases later, gca() will take no keyword arguments. The gca() function should only be used to get the current axes, or if no axes exist, create new axes with default keyword arguments. To create a new axes with non-default arguments, use plt.axes() or plt.subplot().\n",
      "  # Remove the CWD from sys.path while we load stuff.\n"
     ]
    },
    {
     "name": "stdout",
     "output_type": "stream",
     "text": [
      "save to: /home/mo/src/decomposable_paper/benchpress/img/parallel_autocorrelation_10_traj_cta.jpg\n"
     ]
    },
    {
     "data": {
      "text/plain": [
       "<Figure size 432x288 with 0 Axes>"
      ]
     },
     "metadata": {},
     "output_type": "display_data"
    }
   ],
   "source": [
    "## parallel sampler\n",
    "burnin = 300000\n",
    "lag = 20000\n",
    "data = dict()\n",
    "for f in paralleldg_files:\n",
    "    size = size_traj(f)\n",
    "    burned = size['size'].values[-burnin:]\n",
    "    data[f] = autocorrelation(burned, lag)\n",
    "x = np.arange(lag) + 1\n",
    "ax = plt.gca(xlim=(1, np.max(x)), ylim=(-1.0, 1.0))\n",
    "ax.axhline(y=0.0, color=\"grey\")\n",
    "ax.set_xlabel(\"Lag\")\n",
    "ax.set_ylabel(\"Autocorrelation - number of graph edges\")\n",
    "for f in paralleldg_files:\n",
    "    y = data[f]\n",
    "    ax.plot(x, y)\n",
    "plt.ticklabel_format(axis=\"x\", style=\"sci\", scilimits=(0,0))\n",
    "plt.title(parallel)\n",
    "plt.ylim((-0.4, 1))\n",
    "plt.xlim((0,20000))\n",
    "save_location('parallel_autocorrelation_10_traj')"
   ]
  },
  {
   "cell_type": "code",
   "execution_count": 265,
   "metadata": {},
   "outputs": [
    {
     "name": "stderr",
     "output_type": "stream",
     "text": [
      "/home/mo/miniconda3/lib/python3.7/site-packages/ipykernel_launcher.py:10: MatplotlibDeprecationWarning: Calling gca() with keyword arguments was deprecated in Matplotlib 3.4. Starting two minor releases later, gca() will take no keyword arguments. The gca() function should only be used to get the current axes, or if no axes exist, create new axes with default keyword arguments. To create a new axes with non-default arguments, use plt.axes() or plt.subplot().\n",
      "  # Remove the CWD from sys.path while we load stuff.\n"
     ]
    },
    {
     "name": "stdout",
     "output_type": "stream",
     "text": [
      "save to: /home/mo/src/decomposable_paper/benchpress/img/single_move_autocorrelation_10_traj_cta.jpg\n"
     ]
    },
    {
     "data": {
      "text/plain": [
       "<Figure size 432x288 with 0 Axes>"
      ]
     },
     "metadata": {},
     "output_type": "display_data"
    }
   ],
   "source": [
    "## single move sampler\n",
    "burnin = 300000\n",
    "lag = 20000\n",
    "data = dict()\n",
    "for f in paralleldg_files_single_move:\n",
    "    size = size_traj(f)\n",
    "    burned = size['size'].values[-burnin:]\n",
    "    data[f] = autocorrelation(burned, lag)\n",
    "x = np.arange(lag) + 1\n",
    "ax = plt.gca(xlim=(1, np.max(x)), ylim=(-1.0, 1.0))\n",
    "ax.axhline(y=0.0, color=\"grey\")\n",
    "ax.set_xlabel(\"Lag\")\n",
    "ax.set_ylabel(\"Autocorrelation - number oweatf graph edges\")\n",
    "for f in paralleldg_files_single_move:\n",
    "    y = data[f]\n",
    "    ax.plot(x, y)\n",
    "plt.ticklabel_format(axis=\"x\", style=\"sci\", scilimits=(0,0))\n",
    "plt.title(single_move)\n",
    "plt.ylim((-0.4, 1))\n",
    "plt.xlim((0,20000))\n",
    "save_location('single_move_autocorrelation_10_traj')"
   ]
  },
  {
   "cell_type": "code",
   "execution_count": 266,
   "metadata": {},
   "outputs": [
    {
     "name": "stderr",
     "output_type": "stream",
     "text": [
      "/home/mo/miniconda3/lib/python3.7/site-packages/ipykernel_launcher.py:10: MatplotlibDeprecationWarning: Calling gca() with keyword arguments was deprecated in Matplotlib 3.4. Starting two minor releases later, gca() will take no keyword arguments. The gca() function should only be used to get the current axes, or if no axes exist, create new axes with default keyword arguments. To create a new axes with non-default arguments, use plt.axes() or plt.subplot().\n",
      "  # Remove the CWD from sys.path while we load stuff.\n"
     ]
    },
    {
     "name": "stdout",
     "output_type": "stream",
     "text": [
      "save to: /home/mo/src/decomposable_paper/benchpress/img/gt_autocorrelation_10_traj_cta.jpg\n"
     ]
    },
    {
     "data": {
      "text/plain": [
       "<Figure size 432x288 with 0 Axes>"
      ]
     },
     "metadata": {},
     "output_type": "display_data"
    }
   ],
   "source": [
    "# GT 13 -- multi-edge\n",
    "burnin = 500000\n",
    "lag = 150000\n",
    "data = dict()\n",
    "for f in gt13_files:\n",
    "    size = size_traj(f)\n",
    "    burned = size['size'].values[-burnin:]\n",
    "    data[f] = autocorrelation(burned, lag)\n",
    "x = np.arange(lag) + 1\n",
    "ax = plt.gca(xlim=(1, np.max(x)), ylim=(-1.0, 1.0))\n",
    "ax.axhline(y=0.0, color=\"grey\")\n",
    "ax.set_xlabel(\"Lag\")\n",
    "ax.set_ylabel(\"Autocorrelation - number of graph edges\")\n",
    "for f in gt13_files:\n",
    "    y = data[f]\n",
    "    ax.plot(x, y, linewidth=1)\n",
    "plt.ticklabel_format(axis=\"x\", style=\"sci\", scilimits=(0,0))\n",
    "plt.title(gt13)\n",
    "plt.ylim((-0.4, 1))\n",
    "save_location('gt_autocorrelation_10_traj')"
   ]
  },
  {
   "cell_type": "code",
   "execution_count": 267,
   "metadata": {},
   "outputs": [
    {
     "name": "stderr",
     "output_type": "stream",
     "text": [
      "/home/mo/miniconda3/lib/python3.7/site-packages/ipykernel_launcher.py:10: MatplotlibDeprecationWarning: Calling gca() with keyword arguments was deprecated in Matplotlib 3.4. Starting two minor releases later, gca() will take no keyword arguments. The gca() function should only be used to get the current axes, or if no axes exist, create new axes with default keyword arguments. To create a new axes with non-default arguments, use plt.axes() or plt.subplot().\n",
      "  # Remove the CWD from sys.path while we load stuff.\n"
     ]
    },
    {
     "name": "stdout",
     "output_type": "stream",
     "text": [
      "save to: /home/mo/src/decomposable_paper/benchpress/img/gt_single_autocorrelation_10_traj_cta.jpg\n"
     ]
    },
    {
     "data": {
      "text/plain": [
       "<Figure size 432x288 with 0 Axes>"
      ]
     },
     "metadata": {},
     "output_type": "display_data"
    }
   ],
   "source": [
    "# GT 13 -- single-edge\n",
    "burnin = 500000\n",
    "lag = 150000\n",
    "data = dict()\n",
    "for f in gt13_single_move_files:\n",
    "    size = size_traj(f)\n",
    "    burned = size['size'].values[-burnin:]\n",
    "    data[f] = autocorrelation(burned, lag)\n",
    "x = np.arange(lag) + 1\n",
    "ax = plt.gca(xlim=(1, np.max(x)), ylim=(-1.0, 1.0))\n",
    "ax.axhline(y=0.0, color=\"grey\")\n",
    "ax.set_xlabel(\"Lag\")\n",
    "ax.set_ylabel(\"Autocorrelation - number of graph edges\")\n",
    "for f in gt13_single_move_files:\n",
    "    y = data[f]\n",
    "    ax.plot(x, y, linewidth=1)\n",
    "plt.ticklabel_format(axis=\"x\", style=\"sci\", scilimits=(0,0))\n",
    "plt.title(gt13_single)\n",
    "plt.ylim((-0.4, 1))\n",
    "save_location('gt_single_autocorrelation_10_traj')"
   ]
  },
  {
   "cell_type": "code",
   "execution_count": 268,
   "metadata": {},
   "outputs": [
    {
     "name": "stderr",
     "output_type": "stream",
     "text": [
      "/home/mo/miniconda3/lib/python3.7/site-packages/ipykernel_launcher.py:10: MatplotlibDeprecationWarning: Calling gca() with keyword arguments was deprecated in Matplotlib 3.4. Starting two minor releases later, gca() will take no keyword arguments. The gca() function should only be used to get the current axes, or if no axes exist, create new axes with default keyword arguments. To create a new axes with non-default arguments, use plt.axes() or plt.subplot().\n",
      "  # Remove the CWD from sys.path while we load stuff.\n"
     ]
    },
    {
     "name": "stdout",
     "output_type": "stream",
     "text": [
      "save to: /home/mo/src/decomposable_paper/benchpress/img/gg_autocorrelation_10_traj_cta.jpg\n"
     ]
    },
    {
     "data": {
      "text/plain": [
       "<Figure size 432x288 with 0 Axes>"
      ]
     },
     "metadata": {},
     "output_type": "display_data"
    }
   ],
   "source": [
    "# GF 99\n",
    "burnin = 500000\n",
    "lag = 150000\n",
    "data = dict()\n",
    "for f in gg99_files:\n",
    "    size = size_traj(f)\n",
    "    burned = size['size'].values[-burnin:]\n",
    "    data[f] = autocorrelation(burned, lag)\n",
    "x = np.arange(lag) + 1\n",
    "ax = plt.gca(xlim=(1, np.max(x)), ylim=(-1.0, 1.0))\n",
    "ax.axhline(y=0.0, color=\"grey\")\n",
    "ax.set_xlabel(\"Lag\")\n",
    "ax.set_ylabel(\"Autocorrelation - number of graph edges\")\n",
    "for f in gg99_files:\n",
    "    y = data[f]\n",
    "    ax.plot(x, y, linewidth=1)\n",
    "plt.ticklabel_format(axis=\"x\", style=\"sci\", scilimits=(0,0))\n",
    "plt.title(gg99)\n",
    "plt.ylim((-0.4, 1))\n",
    "save_location('gg_autocorrelation_10_traj')"
   ]
  },
  {
   "cell_type": "code",
   "execution_count": 269,
   "metadata": {},
   "outputs": [
    {
     "name": "stderr",
     "output_type": "stream",
     "text": [
      "/home/mo/miniconda3/lib/python3.7/site-packages/ipykernel_launcher.py:10: MatplotlibDeprecationWarning: Calling gca() with keyword arguments was deprecated in Matplotlib 3.4. Starting two minor releases later, gca() will take no keyword arguments. The gca() function should only be used to get the current axes, or if no axes exist, create new axes with default keyword arguments. To create a new axes with non-default arguments, use plt.axes() or plt.subplot().\n",
      "  # Remove the CWD from sys.path while we load stuff.\n"
     ]
    },
    {
     "name": "stdout",
     "output_type": "stream",
     "text": [
      "save to: /home/mo/src/decomposable_paper/benchpress/img/trilearn_autocorrelation_10_traj_cta.jpg\n"
     ]
    },
    {
     "data": {
      "text/plain": [
       "<Figure size 432x288 with 0 Axes>"
      ]
     },
     "metadata": {},
     "output_type": "display_data"
    }
   ],
   "source": [
    "# trilearn\n",
    "burnin = 1000\n",
    "lag = 1000\n",
    "data = dict()\n",
    "for f in trilearn_files:\n",
    "    size = size_traj(f)\n",
    "    burned = size['size'].values[-burnin:]\n",
    "    data[f] = autocorrelation(burned, lag)\n",
    "x = np.arange(lag) + 1\n",
    "ax = plt.gca(xlim=(1, np.max(x)), ylim=(-1.0, 1.0))\n",
    "ax.axhline(y=0.0, color=\"grey\")\n",
    "ax.set_xlabel(\"Lag\")\n",
    "ax.set_ylabel(\"Autocorrelation - number of graph edges\")\n",
    "for f in trilearn_files:\n",
    "    y = data[f]\n",
    "    ax.plot(x, y, linewidth=1)\n",
    "plt.ticklabel_format(axis=\"x\", style=\"sci\", scilimits=(0,0))\n",
    "plt.title(trilearn)\n",
    "plt.ylim((-0.5, 1))\n",
    "save_location('trilearn_autocorrelation_10_traj')"
   ]
  },
  {
   "cell_type": "markdown",
   "metadata": {},
   "source": [
    "# Heatmap"
   ]
  },
  {
   "cell_type": "code",
   "execution_count": 270,
   "metadata": {},
   "outputs": [
    {
     "name": "stdout",
     "output_type": "stream",
     "text": [
      "save to: /home/mo/src/decomposable_paper/benchpress/img/gt_heatmap_traj_0_cta.jpg\n",
      "save to: /home/mo/src/decomposable_paper/benchpress/img/gt_heatmap_traj_1_cta.jpg\n",
      "save to: /home/mo/src/decomposable_paper/benchpress/img/gt_heatmap_traj_2_cta.jpg\n",
      "save to: /home/mo/src/decomposable_paper/benchpress/img/gt_heatmap_traj_3_cta.jpg\n",
      "save to: /home/mo/src/decomposable_paper/benchpress/img/gt_heatmap_traj_4_cta.jpg\n",
      "save to: /home/mo/src/decomposable_paper/benchpress/img/gt_heatmap_traj_5_cta.jpg\n",
      "save to: /home/mo/src/decomposable_paper/benchpress/img/gt_heatmap_traj_6_cta.jpg\n",
      "save to: /home/mo/src/decomposable_paper/benchpress/img/gt_heatmap_traj_7_cta.jpg\n",
      "save to: /home/mo/src/decomposable_paper/benchpress/img/gt_heatmap_traj_8_cta.jpg\n",
      "save to: /home/mo/src/decomposable_paper/benchpress/img/gt_heatmap_traj_9_cta.jpg\n"
     ]
    },
    {
     "data": {
      "text/plain": [
       "<Figure size 432x288 with 0 Axes>"
      ]
     },
     "metadata": {},
     "output_type": "display_data"
    }
   ],
   "source": [
    "k=0\n",
    "for f in gt13_files:\n",
    "    plot_heatmap(f, cbar=False)\n",
    "    plt.title(gt13 + f\" Graph {k+1}\")\n",
    "    save_location('gt_heatmap_traj_' + str(k))\n",
    "    k+=1"
   ]
  },
  {
   "cell_type": "code",
   "execution_count": 271,
   "metadata": {},
   "outputs": [
    {
     "name": "stdout",
     "output_type": "stream",
     "text": [
      "save to: /home/mo/src/decomposable_paper/benchpress/img/gg_heatmap_traj_0_cta.jpg\n",
      "save to: /home/mo/src/decomposable_paper/benchpress/img/gg_heatmap_traj_1_cta.jpg\n",
      "save to: /home/mo/src/decomposable_paper/benchpress/img/gg_heatmap_traj_2_cta.jpg\n",
      "save to: /home/mo/src/decomposable_paper/benchpress/img/gg_heatmap_traj_3_cta.jpg\n",
      "save to: /home/mo/src/decomposable_paper/benchpress/img/gg_heatmap_traj_4_cta.jpg\n",
      "save to: /home/mo/src/decomposable_paper/benchpress/img/gg_heatmap_traj_5_cta.jpg\n",
      "save to: /home/mo/src/decomposable_paper/benchpress/img/gg_heatmap_traj_6_cta.jpg\n",
      "save to: /home/mo/src/decomposable_paper/benchpress/img/gg_heatmap_traj_7_cta.jpg\n",
      "save to: /home/mo/src/decomposable_paper/benchpress/img/gg_heatmap_traj_8_cta.jpg\n",
      "save to: /home/mo/src/decomposable_paper/benchpress/img/gg_heatmap_traj_9_cta.jpg\n"
     ]
    },
    {
     "data": {
      "text/plain": [
       "<Figure size 432x288 with 0 Axes>"
      ]
     },
     "metadata": {},
     "output_type": "display_data"
    }
   ],
   "source": [
    "k=0\n",
    "for f in gg99_files:\n",
    "    plot_heatmap(f, cbar=False)\n",
    "    plt.title(gg99 + f\" Graph {k+1}\")\n",
    "    save_location('gg_heatmap_traj_' + str(k))\n",
    "    k+=1"
   ]
  },
  {
   "cell_type": "code",
   "execution_count": 272,
   "metadata": {},
   "outputs": [
    {
     "name": "stdout",
     "output_type": "stream",
     "text": [
      "save to: /home/mo/src/decomposable_paper/benchpress/img/gt_single_heatmap_traj_0_cta.jpg\n",
      "save to: /home/mo/src/decomposable_paper/benchpress/img/gt_single_heatmap_traj_1_cta.jpg\n",
      "save to: /home/mo/src/decomposable_paper/benchpress/img/gt_single_heatmap_traj_2_cta.jpg\n",
      "save to: /home/mo/src/decomposable_paper/benchpress/img/gt_single_heatmap_traj_3_cta.jpg\n",
      "save to: /home/mo/src/decomposable_paper/benchpress/img/gt_single_heatmap_traj_4_cta.jpg\n",
      "save to: /home/mo/src/decomposable_paper/benchpress/img/gt_single_heatmap_traj_5_cta.jpg\n",
      "save to: /home/mo/src/decomposable_paper/benchpress/img/gt_single_heatmap_traj_6_cta.jpg\n",
      "save to: /home/mo/src/decomposable_paper/benchpress/img/gt_single_heatmap_traj_7_cta.jpg\n",
      "save to: /home/mo/src/decomposable_paper/benchpress/img/gt_single_heatmap_traj_8_cta.jpg\n",
      "save to: /home/mo/src/decomposable_paper/benchpress/img/gt_single_heatmap_traj_9_cta.jpg\n"
     ]
    },
    {
     "data": {
      "text/plain": [
       "<Figure size 432x288 with 0 Axes>"
      ]
     },
     "metadata": {},
     "output_type": "display_data"
    }
   ],
   "source": [
    "k=0\n",
    "for f in gt13_single_move_files:\n",
    "    plot_heatmap(f, cbar=False)\n",
    "    plt.title(gt13_single + f\" Graph {k+1}\")\n",
    "    save_location('gt_single_heatmap_traj_' + str(k))\n",
    "    plt.clf()\n",
    "    k+=1"
   ]
  },
  {
   "cell_type": "code",
   "execution_count": 273,
   "metadata": {},
   "outputs": [
    {
     "name": "stdout",
     "output_type": "stream",
     "text": [
      "save to: /home/mo/src/decomposable_paper/benchpress/img/parallel_heatmap_traj_0_cta.jpg\n",
      "save to: /home/mo/src/decomposable_paper/benchpress/img/parallel_heatmap_traj_1_cta.jpg\n",
      "save to: /home/mo/src/decomposable_paper/benchpress/img/parallel_heatmap_traj_2_cta.jpg\n",
      "save to: /home/mo/src/decomposable_paper/benchpress/img/parallel_heatmap_traj_3_cta.jpg\n",
      "save to: /home/mo/src/decomposable_paper/benchpress/img/parallel_heatmap_traj_4_cta.jpg\n",
      "save to: /home/mo/src/decomposable_paper/benchpress/img/parallel_heatmap_traj_5_cta.jpg\n",
      "save to: /home/mo/src/decomposable_paper/benchpress/img/parallel_heatmap_traj_6_cta.jpg\n",
      "save to: /home/mo/src/decomposable_paper/benchpress/img/parallel_heatmap_traj_7_cta.jpg\n",
      "save to: /home/mo/src/decomposable_paper/benchpress/img/parallel_heatmap_traj_8_cta.jpg\n",
      "save to: /home/mo/src/decomposable_paper/benchpress/img/parallel_heatmap_traj_9_cta.jpg\n"
     ]
    },
    {
     "data": {
      "text/plain": [
       "<Figure size 432x288 with 0 Axes>"
      ]
     },
     "metadata": {},
     "output_type": "display_data"
    }
   ],
   "source": [
    "k=0\n",
    "for f in paralleldg_files:\n",
    "    plot_heatmap(f, cbar=False)\n",
    "    plt.title(parallel + f\" Graph {k+1}\")\n",
    "    save_location('parallel_heatmap_traj_' + str(k))\n",
    "    plt.clf()\n",
    "    k+=1"
   ]
  },
  {
   "cell_type": "code",
   "execution_count": 274,
   "metadata": {},
   "outputs": [
    {
     "name": "stdout",
     "output_type": "stream",
     "text": [
      "save to: /home/mo/src/decomposable_paper/benchpress/img/single_move_heatmap_traj_0_cta.jpg\n",
      "save to: /home/mo/src/decomposable_paper/benchpress/img/single_move_heatmap_traj_1_cta.jpg\n",
      "save to: /home/mo/src/decomposable_paper/benchpress/img/single_move_heatmap_traj_2_cta.jpg\n",
      "save to: /home/mo/src/decomposable_paper/benchpress/img/single_move_heatmap_traj_3_cta.jpg\n",
      "save to: /home/mo/src/decomposable_paper/benchpress/img/single_move_heatmap_traj_4_cta.jpg\n",
      "save to: /home/mo/src/decomposable_paper/benchpress/img/single_move_heatmap_traj_5_cta.jpg\n",
      "save to: /home/mo/src/decomposable_paper/benchpress/img/single_move_heatmap_traj_6_cta.jpg\n",
      "save to: /home/mo/src/decomposable_paper/benchpress/img/single_move_heatmap_traj_7_cta.jpg\n",
      "save to: /home/mo/src/decomposable_paper/benchpress/img/single_move_heatmap_traj_8_cta.jpg\n",
      "save to: /home/mo/src/decomposable_paper/benchpress/img/single_move_heatmap_traj_9_cta.jpg\n"
     ]
    },
    {
     "data": {
      "text/plain": [
       "<Figure size 432x288 with 0 Axes>"
      ]
     },
     "metadata": {},
     "output_type": "display_data"
    }
   ],
   "source": [
    "k=0\n",
    "for f in paralleldg_files_single_move:\n",
    "    plot_heatmap(f, cbar=False)\n",
    "    plt.title(single_move + f\" Graph {k+1}\")\n",
    "    save_location('single_move_heatmap_traj_' + str(k))\n",
    "    plt.clf()\n",
    "    k+=1"
   ]
  },
  {
   "cell_type": "code",
   "execution_count": 275,
   "metadata": {},
   "outputs": [
    {
     "name": "stdout",
     "output_type": "stream",
     "text": [
      "save to: /home/mo/src/decomposable_paper/benchpress/img/trilearn_heatmap_traj_0_cta.jpg\n",
      "save to: /home/mo/src/decomposable_paper/benchpress/img/trilearn_heatmap_traj_1_cta.jpg\n",
      "save to: /home/mo/src/decomposable_paper/benchpress/img/trilearn_heatmap_traj_2_cta.jpg\n",
      "save to: /home/mo/src/decomposable_paper/benchpress/img/trilearn_heatmap_traj_3_cta.jpg\n",
      "save to: /home/mo/src/decomposable_paper/benchpress/img/trilearn_heatmap_traj_4_cta.jpg\n",
      "save to: /home/mo/src/decomposable_paper/benchpress/img/trilearn_heatmap_traj_5_cta.jpg\n",
      "save to: /home/mo/src/decomposable_paper/benchpress/img/trilearn_heatmap_traj_6_cta.jpg\n",
      "save to: /home/mo/src/decomposable_paper/benchpress/img/trilearn_heatmap_traj_7_cta.jpg\n",
      "save to: /home/mo/src/decomposable_paper/benchpress/img/trilearn_heatmap_traj_8_cta.jpg\n",
      "save to: /home/mo/src/decomposable_paper/benchpress/img/trilearn_heatmap_traj_9_cta.jpg\n"
     ]
    },
    {
     "data": {
      "text/plain": [
       "<Figure size 432x288 with 0 Axes>"
      ]
     },
     "metadata": {},
     "output_type": "display_data"
    }
   ],
   "source": [
    "k=0\n",
    "for f in trilearn_files:\n",
    "    plot_heatmap(f, cbar=False)\n",
    "    plt.title(trilearn + f\" Graph {k+1}\")\n",
    "    save_location('trilearn_heatmap_traj_' + str(k))\n",
    "    plt.clf()\n",
    "    k+=1"
   ]
  },
  {
   "cell_type": "code",
   "execution_count": 276,
   "metadata": {},
   "outputs": [
    {
     "name": "stdout",
     "output_type": "stream",
     "text": [
      "save to: /home/mo/src/decomposable_paper/benchpress/img/true_graph_traj_0_cta.jpg\n",
      "save to: /home/mo/src/decomposable_paper/benchpress/img/true_graph_traj_1_cta.jpg\n",
      "save to: /home/mo/src/decomposable_paper/benchpress/img/true_graph_traj_2_cta.jpg\n",
      "save to: /home/mo/src/decomposable_paper/benchpress/img/true_graph_traj_3_cta.jpg\n",
      "save to: /home/mo/src/decomposable_paper/benchpress/img/true_graph_traj_4_cta.jpg\n",
      "save to: /home/mo/src/decomposable_paper/benchpress/img/true_graph_traj_5_cta.jpg\n",
      "save to: /home/mo/src/decomposable_paper/benchpress/img/true_graph_traj_6_cta.jpg\n",
      "save to: /home/mo/src/decomposable_paper/benchpress/img/true_graph_traj_7_cta.jpg\n",
      "save to: /home/mo/src/decomposable_paper/benchpress/img/true_graph_traj_8_cta.jpg\n",
      "save to: /home/mo/src/decomposable_paper/benchpress/img/true_graph_traj_9_cta.jpg\n"
     ]
    },
    {
     "data": {
      "text/plain": [
       "<Figure size 432x288 with 0 Axes>"
      ]
     },
     "metadata": {},
     "output_type": "display_data"
    }
   ],
   "source": [
    "k=0\n",
    "for f in true_graph_files:\n",
    "    plot_graph(read_csv_from_tar_gz(f), cbar=False)\n",
    "    plt.title(f\"Graph {k+1}\" + ' - ' + model_name[graph_model])\n",
    "    save_location('true_graph_traj_' + str(k))\n",
    "    plt.clf()\n",
    "    k+=1"
   ]
  },
  {
   "cell_type": "markdown",
   "metadata": {},
   "source": [
    "## ROC curves"
   ]
  },
  {
   "cell_type": "code",
   "execution_count": 292,
   "metadata": {},
   "outputs": [
    {
     "name": "stdout",
     "output_type": "stream",
     "text": [
      "save to: /home/mo/src/decomposable_paper/benchpress/img/true_graph_0_bandmat.jpg\n",
      "save to: /home/mo/src/decomposable_paper/benchpress/img/true_graph_1_bandmat.jpg\n",
      "save to: /home/mo/src/decomposable_paper/benchpress/img/true_graph_2_bandmat.jpg\n",
      "save to: /home/mo/src/decomposable_paper/benchpress/img/true_graph_3_bandmat.jpg\n",
      "save to: /home/mo/src/decomposable_paper/benchpress/img/true_graph_4_bandmat.jpg\n",
      "save to: /home/mo/src/decomposable_paper/benchpress/img/true_graph_5_bandmat.jpg\n",
      "save to: /home/mo/src/decomposable_paper/benchpress/img/true_graph_6_bandmat.jpg\n",
      "save to: /home/mo/src/decomposable_paper/benchpress/img/true_graph_7_bandmat.jpg\n",
      "save to: /home/mo/src/decomposable_paper/benchpress/img/true_graph_8_bandmat.jpg\n",
      "save to: /home/mo/src/decomposable_paper/benchpress/img/true_graph_9_bandmat.jpg\n"
     ]
    },
    {
     "data": {
      "text/plain": [
       "<Figure size 432x288 with 0 Axes>"
      ]
     },
     "metadata": {},
     "output_type": "display_data"
    }
   ],
   "source": [
    "k=0\n",
    "for f in true_graph_files:\n",
    "    plot_nx_graph(read_csv_from_tar_gz(f))\n",
    "    plt.title(f\"Graph {k+1}\" + ' - ' + model_name[graph_model])\n",
    "    save_location('true_graph_' + str(k))\n",
    "    plt.clf()\n",
    "    k+=1"
   ]
  },
  {
   "cell_type": "code",
   "execution_count": 302,
   "metadata": {},
   "outputs": [
    {
     "name": "stdout",
     "output_type": "stream",
     "text": [
      "save to: /home/mo/src/decomposable_paper/benchpress/img/roc_graphcta_cta.jpg\n"
     ]
    },
    {
     "data": {
      "text/plain": [
       "<Figure size 432x288 with 0 Axes>"
      ]
     },
     "metadata": {},
     "output_type": "display_data"
    }
   ],
   "source": [
    "gt13_roc = fpr_tpr_files(gt13_files, true_graph_files)\n",
    "gt13_single_roc = fpr_tpr_files(gt13_single_move_files, true_graph_files)\n",
    "parallel_roc = fpr_tpr_files(paralleldg_files, true_graph_files)\n",
    "single_move_roc = fpr_tpr_files(paralleldg_files_single_move, true_graph_files)\n",
    "gg99_roc = fpr_tpr_files(gg99_files, true_graph_files)        \n",
    "trilearn_roc = fpr_tpr_files(trilearn_files, true_graph_files)        \n",
    "  \n",
    "# Plotting the ROC curve\n",
    "plt.figure()\n",
    "plt.plot(gt13_roc[0], gt13_roc[1], lw=1, linestyle=':', label=gt13)\n",
    "plt.plot(gt13_single_roc[0], gt13_single_roc[1], lw=1,linestyle=':', label=gt13_single)\n",
    "plt.plot(gg99_roc[0], gg99_roc[1], lw=1,linestyle=':', label=gg99)\n",
    "plt.plot(parallel_roc[0], parallel_roc[1], lw=1, label=parallel)\n",
    "plt.plot(single_move_roc[0], single_move_roc[1], lw=1, linestyle = '--', label=single_move)\n",
    "plt.plot(trilearn_roc[0], trilearn_roc[1], lw=1, linestyle = ':', label=trilearn)\n",
    "plt.xlabel('Average False Positive Rate')\n",
    "plt.ylabel('Average True Positive Rate')\n",
    "#plt.title('Receiver Operating Characteristic')\n",
    "plt.legend(loc=\"lower right\")\n",
    "save_location('roc_graph' + graph_model)\n",
    "#plt.clf()\n"
   ]
  },
  {
   "cell_type": "markdown",
   "metadata": {},
   "source": [
    "# joint acceptance rate Boxplot"
   ]
  },
  {
   "cell_type": "code",
   "execution_count": 12,
   "metadata": {},
   "outputs": [],
   "source": [
    "import pandas as pd\n",
    "\n",
    "df = pd.DataFrame()\n",
    "for key in model_name.keys():\n",
    "    graph_model = key\n",
    "    filename = create_filename('gt_parallel_acceptance_rate_10_traj' + '.csv')\n",
    "    df1 = pd.read_csv(filename, header=0, index_col=0)\n",
    "    df1['graph'] = model_fullname[key]\n",
    "    df = pd.concat([df, df1])  # Changed here\n"
   ]
  },
  {
   "cell_type": "code",
   "execution_count": 14,
   "metadata": {},
   "outputs": [
    {
     "name": "stdout",
     "output_type": "stream",
     "text": [
      "save to: /home/mo/src/decomposable_paper/benchpress/img/acceptance_rate_boxplots_bandmat.jpg\n"
     ]
    },
    {
     "data": {
      "text/plain": [
       "<Figure size 504x288 with 0 Axes>"
      ]
     },
     "metadata": {},
     "output_type": "display_data"
    }
   ],
   "source": [
    "df_melted = df.melt(id_vars='graph', var_name='measurement')\n",
    "# figure styles\n",
    "#sns.set_style('white')\n",
    "sns.set_context('paper', font_scale=1.2)\n",
    "plt.figure(figsize=(7, 4))\n",
    "sns.set_style('ticks', {'axes.edgecolor': 'black',  \n",
    "                        'xtick.color': 'black',\n",
    "                        'ytick.color': 'black'})\n",
    "# Plotting\n",
    "palette = ['white', '#C1CDCD']\n",
    "#plt.figure(figsize=(6, 4))\n",
    "ax = sns.boxplot(x='measurement', y='value', \n",
    "                 hue='graph', \n",
    "                 data=df_melted,\n",
    "                linewidth=0.8, \n",
    "                palette=palette)\n",
    "ax.set_ylabel('Acceptance rate (%), over graph-updates.')\n",
    "ax.set_xlabel('')\n",
    "save_location('acceptance_rate_boxplots')\n",
    "plt.show()\n"
   ]
  },
  {
   "cell_type": "markdown",
   "metadata": {},
   "source": [
    "# Time calculation"
   ]
  },
  {
   "cell_type": "code",
   "execution_count": 16,
   "metadata": {},
   "outputs": [],
   "source": [
    "def read_time(filename):\n",
    "    # Open the file\n",
    "    with open(filename, 'r') as file:\n",
    "        content = file.read()\n",
    "    number = float(content.strip())  # Use int() if the number is an integer\n",
    "    return number"
   ]
  },
  {
   "cell_type": "code",
   "execution_count": 32,
   "metadata": {},
   "outputs": [],
   "source": [
    "## Extrat location of datafile\n",
    "graph_model = 'bandmat' #'cta'  # either cta or bandmat\n",
    "df = pd.DataFrame()\n",
    "for graph_model in ['cta', 'bandmat']:\n",
    "    ## Extrat location of datafile\n",
    "    paralleldg_files = algo_files(BENCHPRESS_LOC, 'parallel', ['parallel=True', graph_model, 'time.txt'])\n",
    "    paralleldg_files = [f for f in paralleldg_files if 'subindex' not in f]\n",
    "    paralleldg_files_sub = algo_files(BENCHPRESS_LOC, 'parallel', ['subindex.csv', 'parallel=True', graph_model])\n",
    "    gt13_files = algo_files(BENCHPRESS_LOC, 'athomas', ['sampler=2', graph_model, 'time.txt', 'full_output=False'])\n",
    "    gt13_files = [f for f in gt13_files if 'subindex' not in f]\n",
    "\n",
    "\n",
    "    paralleldg_files_single_move = algo_files(BENCHPRESS_LOC, 'parallel', ['parallel=False', graph_model,  'time.txt'])\n",
    "    gt13_single_move_files = algo_files(BENCHPRESS_LOC, 'athomas', ['sampler=1', graph_model,  'time.txt', 'full_output=False'])\n",
    "    gt13_single_move_files = [f for f in gt13_single_move_files if 'subindex' not in f]\n",
    "\n",
    "    gg99_files = algo_files(BENCHPRESS_LOC, 'athomas', ['sampler=0', graph_model, 'time.txt', 'full_output=False'])\n",
    "    gg99_files = [f for f in gg99_files if 'subindex' not in f]\n",
    "\n",
    "    true_graph_files = algo_files(BENCHPRESS_LOC, 'adjmat/',[graph_model, '.csv'])\n",
    "\n",
    "    trilearn_files = algo_files(BENCHPRESS_LOC, 'pgibbs', [graph_model, 'time.txt', 'M=1000'])\n",
    "    time_dict = dict()\n",
    "    time_list = []\n",
    "    for f in paralleldg_files:\n",
    "        time_list.append(read_time(f)/3000.0)\n",
    "    time_dict['Parallel'] = time_list\n",
    "\n",
    "\n",
    "    time_list = []\n",
    "    for f in paralleldg_files_single_move:\n",
    "        time_list.append(read_time(f)/2000.0)\n",
    "    time_dict['Single-move'] = time_list\n",
    "\n",
    "    time_list = []\n",
    "    for f in gt13_files:\n",
    "        time_list.append(read_time(f)/1000.0)\n",
    "    time_dict['GT13-m'] = time_list\n",
    "\n",
    "    time_list = []\n",
    "    for f in gt13_single_move_files:\n",
    "        time_list.append(read_time(f)/1000.0)\n",
    "    time_dict['GT13-s'] = time_list\n",
    "\n",
    "    time_list = []\n",
    "    for f in trilearn_files:\n",
    "        time_list.append(read_time(f)/10.0)\n",
    "    time_dict['O19'] = time_list\n",
    "    \n",
    "    time_list = []\n",
    "    for f in gg99_files:\n",
    "        time_list.append(read_time(f)/1000.0)\n",
    "    time_dict['GG99'] = time_list\n",
    "    df1 = pd.DataFrame(time_dict)\n",
    "    df1['graph'] = model_fullname[graph_model]\n",
    "    df = pd.concat([df, df1])"
   ]
  },
  {
   "cell_type": "code",
   "execution_count": 43,
   "metadata": {},
   "outputs": [
    {
     "name": "stdout",
     "output_type": "stream",
     "text": [
      "save to: /home/mo/src/decomposable_paper/benchpress/img/time_boxplot_bandmat.jpg\n"
     ]
    },
    {
     "data": {
      "text/plain": [
       "<Figure size 576x360 with 0 Axes>"
      ]
     },
     "metadata": {},
     "output_type": "display_data"
    }
   ],
   "source": [
    "df_melted = df.melt(id_vars='graph', var_name='measurement')\n",
    "df1 = df_melted[df_melted.measurement != 'O19']\n",
    "# figure styles\n",
    "#sns.set_style('white')\n",
    "sns.set_context('paper', font_scale=1.2)\n",
    "plt.figure(figsize=(8, 5))\n",
    "sns.set_style('ticks', {'axes.edgecolor': 'black',  \n",
    "                        'xtick.color': 'black',\n",
    "                        'ytick.color': 'black'})\n",
    "# Plotting\n",
    "palette = ['white', '#C1CDCD']\n",
    "#plt.figure(figsize=(6, 4))\n",
    "ax = sns.boxplot(x='measurement', y='value', \n",
    "                 hue='graph', \n",
    "                 data=df1,\n",
    "                linewidth=0.8, \n",
    "                palette=palette)\n",
    "ax.set_ylabel('Average time (sec) for 1000 updates.')\n",
    "ax.set_xlabel('')\n",
    "save_location('time_boxplot')\n",
    "plt.show()\n"
   ]
  },
  {
   "cell_type": "code",
   "execution_count": 41,
   "metadata": {},
   "outputs": [
    {
     "name": "stdout",
     "output_type": "stream",
     "text": [
      "\\begin{tabular}{lrrrrrr}\n",
      "\\toprule\n",
      "{} &  Parallel &  Single-move &  GT13-m &  GT13-s &     O19 &  GG99 \\\\\n",
      "\\midrule\n",
      "count &     20.00 &        20.00 &   20.00 &   20.00 &   20.00 & 20.00 \\\\\n",
      "mean  &      0.20 &         0.26 &    0.04 &    0.19 & 3810.16 &  0.06 \\\\\n",
      "std   &      0.04 &         0.03 &    0.01 &    0.04 &  122.58 &  0.00 \\\\\n",
      "min   &      0.14 &         0.20 &    0.03 &    0.12 & 3568.87 &  0.06 \\\\\n",
      "25\\%   &      0.17 &         0.23 &    0.03 &    0.16 & 3707.67 &  0.06 \\\\\n",
      "50\\%   &      0.20 &         0.26 &    0.04 &    0.19 & 3811.52 &  0.06 \\\\\n",
      "75\\%   &      0.22 &         0.28 &    0.05 &    0.24 & 3917.07 &  0.07 \\\\\n",
      "max   &      0.30 &         0.32 &    0.05 &    0.25 & 3986.64 &  0.07 \\\\\n",
      "\\bottomrule\n",
      "\\end{tabular}\n",
      "\n"
     ]
    }
   ],
   "source": [
    "print(df.describe().to_latex(index=True, float_format=\"%.2f\"))"
   ]
  },
  {
   "cell_type": "code",
   "execution_count": 42,
   "metadata": {},
   "outputs": [
    {
     "data": {
      "text/html": [
       "<div>\n",
       "<style scoped>\n",
       "    .dataframe tbody tr th:only-of-type {\n",
       "        vertical-align: middle;\n",
       "    }\n",
       "\n",
       "    .dataframe tbody tr th {\n",
       "        vertical-align: top;\n",
       "    }\n",
       "\n",
       "    .dataframe thead th {\n",
       "        text-align: right;\n",
       "    }\n",
       "</style>\n",
       "<table border=\"1\" class=\"dataframe\">\n",
       "  <thead>\n",
       "    <tr style=\"text-align: right;\">\n",
       "      <th></th>\n",
       "      <th>Parallel</th>\n",
       "      <th>Single-move</th>\n",
       "      <th>GT13-m</th>\n",
       "      <th>GT13-s</th>\n",
       "      <th>O19</th>\n",
       "      <th>GG99</th>\n",
       "    </tr>\n",
       "  </thead>\n",
       "  <tbody>\n",
       "    <tr>\n",
       "      <th>count</th>\n",
       "      <td>20.000000</td>\n",
       "      <td>20.000000</td>\n",
       "      <td>20.000000</td>\n",
       "      <td>20.000000</td>\n",
       "      <td>20.000000</td>\n",
       "      <td>20.000000</td>\n",
       "    </tr>\n",
       "    <tr>\n",
       "      <th>mean</th>\n",
       "      <td>0.200983</td>\n",
       "      <td>0.259073</td>\n",
       "      <td>0.040086</td>\n",
       "      <td>0.190494</td>\n",
       "      <td>3810.163250</td>\n",
       "      <td>0.063216</td>\n",
       "    </tr>\n",
       "    <tr>\n",
       "      <th>std</th>\n",
       "      <td>0.041274</td>\n",
       "      <td>0.031078</td>\n",
       "      <td>0.008212</td>\n",
       "      <td>0.043043</td>\n",
       "      <td>122.575751</td>\n",
       "      <td>0.004312</td>\n",
       "    </tr>\n",
       "    <tr>\n",
       "      <th>min</th>\n",
       "      <td>0.143367</td>\n",
       "      <td>0.195615</td>\n",
       "      <td>0.027970</td>\n",
       "      <td>0.119320</td>\n",
       "      <td>3568.870000</td>\n",
       "      <td>0.056080</td>\n",
       "    </tr>\n",
       "    <tr>\n",
       "      <th>25%</th>\n",
       "      <td>0.172328</td>\n",
       "      <td>0.233260</td>\n",
       "      <td>0.033300</td>\n",
       "      <td>0.159507</td>\n",
       "      <td>3707.670250</td>\n",
       "      <td>0.060865</td>\n",
       "    </tr>\n",
       "    <tr>\n",
       "      <th>50%</th>\n",
       "      <td>0.195427</td>\n",
       "      <td>0.258378</td>\n",
       "      <td>0.036595</td>\n",
       "      <td>0.188420</td>\n",
       "      <td>3811.521500</td>\n",
       "      <td>0.062860</td>\n",
       "    </tr>\n",
       "    <tr>\n",
       "      <th>75%</th>\n",
       "      <td>0.224813</td>\n",
       "      <td>0.281515</td>\n",
       "      <td>0.047560</td>\n",
       "      <td>0.238055</td>\n",
       "      <td>3917.065250</td>\n",
       "      <td>0.065280</td>\n",
       "    </tr>\n",
       "    <tr>\n",
       "      <th>max</th>\n",
       "      <td>0.297827</td>\n",
       "      <td>0.316680</td>\n",
       "      <td>0.054560</td>\n",
       "      <td>0.249400</td>\n",
       "      <td>3986.641000</td>\n",
       "      <td>0.074240</td>\n",
       "    </tr>\n",
       "  </tbody>\n",
       "</table>\n",
       "</div>"
      ],
      "text/plain": [
       "        Parallel  Single-move     GT13-m     GT13-s          O19       GG99\n",
       "count  20.000000    20.000000  20.000000  20.000000    20.000000  20.000000\n",
       "mean    0.200983     0.259073   0.040086   0.190494  3810.163250   0.063216\n",
       "std     0.041274     0.031078   0.008212   0.043043   122.575751   0.004312\n",
       "min     0.143367     0.195615   0.027970   0.119320  3568.870000   0.056080\n",
       "25%     0.172328     0.233260   0.033300   0.159507  3707.670250   0.060865\n",
       "50%     0.195427     0.258378   0.036595   0.188420  3811.521500   0.062860\n",
       "75%     0.224813     0.281515   0.047560   0.238055  3917.065250   0.065280\n",
       "max     0.297827     0.316680   0.054560   0.249400  3986.641000   0.074240"
      ]
     },
     "execution_count": 42,
     "metadata": {},
     "output_type": "execute_result"
    }
   ],
   "source": [
    "df.describe()"
   ]
  },
  {
   "cell_type": "code",
   "execution_count": null,
   "metadata": {},
   "outputs": [],
   "source": []
  }
 ],
 "metadata": {
  "kernelspec": {
   "display_name": "Python 3 (ipykernel)",
   "language": "python",
   "name": "python3"
  },
  "language_info": {
   "codemirror_mode": {
    "name": "ipython",
    "version": 3
   },
   "file_extension": ".py",
   "mimetype": "text/x-python",
   "name": "python",
   "nbconvert_exporter": "python",
   "pygments_lexer": "ipython3",
   "version": "3.7.11"
  }
 },
 "nbformat": 4,
 "nbformat_minor": 2
}
